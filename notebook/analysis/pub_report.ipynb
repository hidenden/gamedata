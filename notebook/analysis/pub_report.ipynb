{
 "cells": [
  {
   "cell_type": "code",
   "execution_count": 1,
   "id": "5716d836",
   "metadata": {},
   "outputs": [
    {
     "name": "stderr",
     "output_type": "stream",
     "text": [
      "[NbConvertApp] Converting notebook weekly_report_2025.ipynb to html\n",
      "[NbConvertApp] WARNING | Alternative text is missing on 8 image(s).\n",
      "[NbConvertApp] Writing 901877 bytes to ../../public/weekly_report_20250817.html\n"
     ]
    },
    {
     "data": {
      "text/plain": [
       "0"
      ]
     },
     "execution_count": 1,
     "metadata": {},
     "output_type": "execute_result"
    }
   ],
   "source": [
    "import os\n",
    "\n",
    "# レポート日付\n",
    "from report_date import get_report_date\n",
    "\n",
    "NOTEBOOK = 'weekly_report_2025.ipynb'\n",
    "OUTDIR = '../../public'\n",
    "\n",
    "report_date = get_report_date()\n",
    "report_file_name = f\"weekly_report_{report_date.strftime('%Y%m%d')}.html\"\n",
    "report_path = f\"{OUTDIR}/{report_file_name}\"\n",
    "\n",
    "# report_pathにフィアルが存在したら削除\n",
    "if os.path.exists(report_path):\n",
    "    os.remove(report_path)\n",
    "\n",
    "# nbconvertコマンドを実行\n",
    "os.system(f\"jupyter nbconvert --to html --output-dir={OUTDIR} --output={report_file_name} --TemplateExporter.exclude_input=True {NOTEBOOK}\")\n",
    "\n"
   ]
  }
 ],
 "metadata": {
  "kernelspec": {
   "display_name": "Python 3",
   "language": "python",
   "name": "python3"
  },
  "language_info": {
   "codemirror_mode": {
    "name": "ipython",
    "version": 3
   },
   "file_extension": ".py",
   "mimetype": "text/x-python",
   "name": "python",
   "nbconvert_exporter": "python",
   "pygments_lexer": "ipython3",
   "version": "3.10.17"
  }
 },
 "nbformat": 4,
 "nbformat_minor": 5
}
