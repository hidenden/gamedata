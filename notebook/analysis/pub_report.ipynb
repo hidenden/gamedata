{
 "cells": [
  {
   "cell_type": "code",
   "execution_count": 2,
   "id": "5716d836",
   "metadata": {},
   "outputs": [
    {
     "name": "stdout",
     "output_type": "stream",
     "text": [
      "Converting notebook to HTML...\n",
      "Report published successfully to ../../public/weekly_report_20250914.html. \n"
     ]
    }
   ],
   "source": [
    "import os\n",
    "from datetime import datetime\n",
    "from nbconvert import HTMLExporter\n",
    "from nbconvert.preprocessors import Preprocessor\n",
    "from urllib.parse import urljoin\n",
    "\n",
    "NOTEBOOK = 'weekly_report_2025.ipynb'\n",
    "OUTDIR = '../../public'\n",
    "SITEURL = 'https://gamehardrecord.netlify.app'\n",
    "\n",
    "\n",
    "class OGPUrlPreprocessor(Preprocessor):\n",
    "    def preprocess(self, nb, resources):\n",
    "        rsc_ogp = resources.get('ogp', {})\n",
    "        report_date = rsc_ogp.get('report_date')\n",
    "        large_flag = rsc_ogp.get('large', False)\n",
    "        base_url = rsc_ogp.get('base_url')\n",
    "\n",
    "        ogp = nb.metadata.get('ogp', {})\n",
    "        ogp['description'] = rsc_ogp.get('description', '')\n",
    "        ogp['title'] = f\"ゲームハード週販レポート ({report_date.strftime('%Y.%m.%d')})\"\n",
    "        ogp['type'] = 'website'\n",
    "        ogp['url'] = urljoin(base_url, f\"weekly_report_{report_date.strftime('%Y%m%d')}.html\")\n",
    "\n",
    "        if large_flag:\n",
    "            ogp['image'] = f\"{base_url}/weekly_report_{report_date.strftime('%Y%m%d')}.png\"\n",
    "            ogp['twitter_card'] = \"summary_large_image\"\n",
    "        else:\n",
    "            ogp['image'] = f\"{base_url}/small_card.png\"\n",
    "            ogp['twitter_card'] = \"summary\"\n",
    "\n",
    "        nb.metadata['ogp'] = ogp\n",
    "        return nb, resources\n",
    "\n",
    "\n",
    "from report_config import get_config\n",
    "config = get_config()\n",
    "report_date = config[\"date\"]\n",
    "report_file_name = f\"weekly_report_{report_date.strftime('%Y%m%d')}.html\"\n",
    "report_path = f\"{OUTDIR}/{report_file_name}\"\n",
    "\n",
    "# report_pathにファイルが存在したら削除\n",
    "if os.path.exists(report_path):\n",
    "    os.remove(report_path)\n",
    "\n",
    "# nbconvertでHTMLに変換（標準テンプレートを使用）\n",
    "exporter = HTMLExporter(\n",
    "    template_name = 'ogp',\n",
    "    extra_template_basedirs = ['../templates'],\n",
    "    exclude_input = True\n",
    ")\n",
    "exporter.exclude_output_prompt = True\n",
    "exporter.exclude_input_prompt = True\n",
    "exporter.register_preprocessor(OGPUrlPreprocessor, enabled=True)\n",
    "rsc = {\n",
    "    'base_url': SITEURL,\n",
    "    'report_date': report_date,\n",
    "    'large': config['large'],\n",
    "    'description': config['description'],\n",
    "}\n",
    "\n",
    "try:\n",
    "    print(\"Converting notebook to HTML...\")\n",
    "    body, resources = exporter.from_filename(NOTEBOOK, resources={\"ogp\": rsc})\n",
    "    # ファイルに保存\n",
    "    with open(report_path, 'w', encoding='utf-8') as f:\n",
    "        f.write(body)\n",
    "    print(f\"Report published successfully to {report_path}. \")\n",
    "        \n",
    "except Exception as e:\n",
    "    print(f\"Error during export: {e}\")\n",
    "    import traceback\n",
    "    traceback.print_exc()"
   ]
  }
 ],
 "metadata": {
  "kernelspec": {
   "display_name": "Python 3",
   "language": "python",
   "name": "python3"
  },
  "language_info": {
   "codemirror_mode": {
    "name": "ipython",
    "version": 3
   },
   "file_extension": ".py",
   "mimetype": "text/x-python",
   "name": "python",
   "nbconvert_exporter": "python",
   "pygments_lexer": "ipython3",
   "version": "3.10.17"
  }
 },
 "nbformat": 4,
 "nbformat_minor": 5
}
