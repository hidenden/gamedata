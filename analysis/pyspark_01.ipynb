{
 "cells": [
  {
   "cell_type": "code",
   "execution_count": 4,
   "id": "7195dd22-354d-4982-966c-122351c4d3bc",
   "metadata": {},
   "outputs": [],
   "source": [
    "# from pyspark.sql.functions import * とする場合もありますが、\n",
    "# Fで関数の名前空間を明示した方がわかりやすくて好きです。\n",
    "# ただ、FだとPEP8に違反していますが。。。\n",
    "from pyspark.sql import functions as F\n",
    "from pyspark.sql.types import FloatType, TimestampType, StringType\n",
    "from pyspark.sql.window import Window\n",
    "from pyspark import SparkContext\n",
    "from pyspark.sql import SparkSession\n",
    "from pyspark.sql.utils import AnalysisException\n",
    "import pandas as pd\n",
    "import numpy as np\n",
    "import datetime\n",
    "import re\n",
    "import matplotlib.pyplot as plt\n",
    "import matplotlib as mpl\n",
    "import japanize_matplotlib\n",
    "\n",
    "# spark initialization\n",
    "spark = SparkSession.builder.appName(\"gamedata\").getOrCreate()"
   ]
  },
  {
   "cell_type": "code",
   "execution_count": 5,
   "id": "6b44efd0-f257-4d58-85a8-c5b6fd736549",
   "metadata": {},
   "outputs": [],
   "source": [
    "df = spark.read.parquet(\"../transform/hard_spark\")"
   ]
  },
  {
   "cell_type": "code",
   "execution_count": 10,
   "id": "1a86819d-bd18-4081-adae-44630f593a74",
   "metadata": {},
   "outputs": [
    {
     "data": {
      "text/plain": [
       "StructType(List(StructField(begin_date,StringType,true),StructField(end_date,StringType,true),StructField(hw,StringType,true),StructField(units,StringType,true)))"
      ]
     },
     "execution_count": 10,
     "metadata": {},
     "output_type": "execute_result"
    },
    {
     "name": "stderr",
     "output_type": "stream",
     "text": [
      "22/05/31 00:00:13 WARN HeartbeatReceiver: Removing executor driver with no recent heartbeats: 256571 ms exceeds timeout 120000 ms\n",
      "22/05/31 00:00:13 WARN SparkContext: Killing executors is not supported by current scheduler.\n"
     ]
    }
   ],
   "source": [
    "df.schema"
   ]
  },
  {
   "cell_type": "code",
   "execution_count": 20,
   "id": "4349826e-9566-4009-8007-a600243bb328",
   "metadata": {},
   "outputs": [],
   "source": [
    "df_hw = df.select(\"hw\").distinct()"
   ]
  },
  {
   "cell_type": "code",
   "execution_count": 21,
   "id": "f7153b92-44ae-4be6-bbb0-0a472f28bdc4",
   "metadata": {},
   "outputs": [
    {
     "name": "stdout",
     "output_type": "stream",
     "text": [
      "PS3\n",
      "PS\n",
      "Switch\n",
      "Vita\n",
      "DC\n",
      "PS2\n",
      "3DS\n",
      "WiiU\n",
      "GB\n",
      "PKS\n",
      "N64\n",
      "XBOne\n",
      "PSP\n",
      "PS4\n",
      "XB360\n",
      "XSX\n",
      "GBA\n",
      "WS\n",
      "SATURN\n",
      "GC\n",
      "Wii\n",
      "PS5\n",
      "Xbox\n",
      "DS\n",
      "NeoGeoP\n"
     ]
    },
    {
     "data": {
      "text/plain": [
       "25"
      ]
     },
     "execution_count": 21,
     "metadata": {},
     "output_type": "execute_result"
    }
   ],
   "source": [
    "for r in df_hw.collect():\n",
    "    print(r['hw'])\n",
    "\n",
    "df_hw.count()"
   ]
  },
  {
   "cell_type": "code",
   "execution_count": 28,
   "id": "a8e6b9e2-f2fc-4256-9ecb-77c07c14f710",
   "metadata": {},
   "outputs": [
    {
     "name": "stdout",
     "output_type": "stream",
     "text": [
      "+----------+----------+-----+\n",
      "|begin_date|  end_date|  PS3|\n",
      "+----------+----------+-----+\n",
      "|2006-11-06|2006-11-12|88443|\n",
      "|2006-11-13|2006-11-19|43378|\n",
      "|2006-11-20|2006-11-26|37261|\n",
      "|2006-11-27|2006-12-03|30467|\n",
      "|2006-12-04|2006-12-10|43597|\n",
      "|2006-12-11|2006-12-17|70557|\n",
      "|2006-12-18|2006-12-24|76506|\n",
      "|2006-12-25|2006-12-31|76506|\n",
      "|2007-01-01|2007-01-07|67620|\n",
      "|2007-01-08|2007-01-14|33492|\n",
      "|2007-01-15|2007-01-21|25379|\n",
      "|2007-01-22|2007-01-28|21028|\n",
      "|2007-01-29|2007-02-04|20687|\n",
      "|2007-02-05|2007-02-11|22950|\n",
      "|2007-02-12|2007-02-18|20617|\n",
      "|2007-02-19|2007-02-25|21558|\n",
      "|2007-02-26|2007-03-04|46924|\n",
      "|2007-03-05|2007-03-11|26925|\n",
      "|2007-03-12|2007-03-18|19787|\n",
      "|2007-03-19|2007-03-25|18391|\n",
      "+----------+----------+-----+\n",
      "only showing top 20 rows\n",
      "\n"
     ]
    }
   ],
   "source": [
    "df_ps3 = df.select(\n",
    "    F.col(\"begin_date\").cast(\"date\"),\n",
    "    F.col(\"end_date\").cast(\"date\"),\n",
    "    F.col(\"units\").cast(\"int\").alias(\"PS3\")).where(df.hw == 'PS3').show()"
   ]
  },
  {
   "cell_type": "code",
   "execution_count": 30,
   "id": "1616b58d-dd6e-482f-b79e-a9b6a9da9e27",
   "metadata": {},
   "outputs": [],
   "source": [
    "df_ps4 = df.select(\n",
    "    F.col(\"begin_date\").cast(\"date\"),\n",
    "    F.col(\"end_date\").cast(\"date\"),\n",
    "    F.col(\"units\").cast(\"int\").alias(\"PS4\")).where(df.hw == 'PS4')"
   ]
  },
  {
   "cell_type": "code",
   "execution_count": 31,
   "id": "03c4d75f-d5b1-4e88-8809-17087aa40902",
   "metadata": {},
   "outputs": [],
   "source": [
    "df_ps5 = df.select(\n",
    "    F.col(\"begin_date\").cast(\"date\"),\n",
    "    F.col(\"end_date\").cast(\"date\"),\n",
    "    F.col(\"units\").cast(\"int\").alias(\"PS5\")).where(df.hw == 'PS5')"
   ]
  },
  {
   "cell_type": "code",
   "execution_count": 38,
   "id": "e25a7ad9-63ec-4fa1-9b57-2ad0767f264c",
   "metadata": {},
   "outputs": [
    {
     "data": {
      "text/plain": [
       "DataFrame[begin_date: string, end_date: string, hw: string, units: string, units2: int]"
      ]
     },
     "execution_count": 38,
     "metadata": {},
     "output_type": "execute_result"
    }
   ],
   "source": [
    "df.withColumn(\"units2\", F.col('units').cast(\"int\") * 2)"
   ]
  },
  {
   "cell_type": "code",
   "execution_count": 41,
   "id": "ce347174-d332-46f6-84b6-45b921e3bd97",
   "metadata": {},
   "outputs": [],
   "source": [
    "df_u2 = df.select(\n",
    "    F.col(\"begin_date\").cast(\"date\"),\n",
    "    F.col(\"end_date\").cast(\"date\"),\n",
    "    F.lit(\"hoge\").alias(\"foo\"))"
   ]
  },
  {
   "cell_type": "code",
   "execution_count": 42,
   "id": "33b70069-02d1-4bff-8094-785e3b5e8856",
   "metadata": {},
   "outputs": [
    {
     "name": "stdout",
     "output_type": "stream",
     "text": [
      "+----------+----------+----+\n",
      "|begin_date|  end_date| foo|\n",
      "+----------+----------+----+\n",
      "|1998-10-12|1998-10-18|hoge|\n",
      "|1998-10-12|1998-10-18|hoge|\n",
      "|1998-10-12|1998-10-18|hoge|\n",
      "|1998-10-12|1998-10-18|hoge|\n",
      "|1998-10-19|1998-10-25|hoge|\n",
      "|1998-10-19|1998-10-25|hoge|\n",
      "|1998-10-19|1998-10-25|hoge|\n",
      "|1998-10-19|1998-10-25|hoge|\n",
      "|1998-10-26|1998-11-01|hoge|\n",
      "|1998-10-26|1998-11-01|hoge|\n",
      "|1998-10-26|1998-11-01|hoge|\n",
      "|1998-10-26|1998-11-01|hoge|\n",
      "|1998-10-26|1998-11-01|hoge|\n",
      "|1998-11-02|1998-11-08|hoge|\n",
      "|1998-11-02|1998-11-08|hoge|\n",
      "|1998-11-02|1998-11-08|hoge|\n",
      "|1998-11-02|1998-11-08|hoge|\n",
      "|1998-11-02|1998-11-08|hoge|\n",
      "|1998-11-09|1998-11-15|hoge|\n",
      "|1998-11-09|1998-11-15|hoge|\n",
      "+----------+----------+----+\n",
      "only showing top 20 rows\n",
      "\n"
     ]
    }
   ],
   "source": [
    "df_u2.show()"
   ]
  },
  {
   "cell_type": "code",
   "execution_count": 43,
   "id": "ce6f9fd3-a36b-40a7-9ab8-4bd903aaa504",
   "metadata": {},
   "outputs": [],
   "source": [
    "df_not_switch = df.select('*').where(df.hw != 'Switch')\n"
   ]
  },
  {
   "cell_type": "code",
   "execution_count": 48,
   "id": "28c470e9-19f0-4b99-834d-3439852d3ad6",
   "metadata": {},
   "outputs": [],
   "source": [
    "df_new_ps = df.select('*').where(df.hw.like('PS%'))"
   ]
  },
  {
   "cell_type": "code",
   "execution_count": 63,
   "id": "f555354e-a849-4292-ab03-b2b540bb3804",
   "metadata": {},
   "outputs": [
    {
     "name": "stdout",
     "output_type": "stream",
     "text": [
      "+-------+-----+----------+--------+--------+\n",
      "|PS5_sum|Weeks|  avg(PS5)|max(PS5)|min(PS5)|\n",
      "+-------+-----+----------+--------+--------+\n",
      "|1635115|   80|20438.9375|  118085|    1133|\n",
      "+-------+-----+----------+--------+--------+\n",
      "\n"
     ]
    }
   ],
   "source": [
    "df_ps5.select(F.sum(F.col(\"PS5\")).alias(\"PS5_sum\"), F.count(\"PS5\").alias(\"Weeks\"), F.avg(\"PS5\"), F.max(\"PS5\"), F.min(\"PS5\")).show()"
   ]
  },
  {
   "cell_type": "code",
   "execution_count": null,
   "id": "34badf8b-18d9-440f-a104-9cc5e2835ef3",
   "metadata": {},
   "outputs": [],
   "source": []
  }
 ],
 "metadata": {
  "kernelspec": {
   "display_name": "Python 3 (ipykernel)",
   "language": "python",
   "name": "python3"
  },
  "language_info": {
   "codemirror_mode": {
    "name": "ipython",
    "version": 3
   },
   "file_extension": ".py",
   "mimetype": "text/x-python",
   "name": "python",
   "nbconvert_exporter": "python",
   "pygments_lexer": "ipython3",
   "version": "3.9.12"
  }
 },
 "nbformat": 4,
 "nbformat_minor": 5
}
