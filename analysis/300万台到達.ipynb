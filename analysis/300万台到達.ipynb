{
 "cells": [
  {
   "cell_type": "code",
   "execution_count": 6,
   "metadata": {},
   "outputs": [],
   "source": [
    "from pyspark.sql import functions as F\n",
    "from pyspark.sql.types import FloatType, TimestampType, StringType\n",
    "from pyspark.sql.window import Window\n",
    "from pyspark import SparkContext\n",
    "from pyspark.sql import SparkSession\n",
    "from pyspark.sql.utils import AnalysisException\n",
    "import pandas as pd\n",
    "import datetime\n",
    "import re\n",
    "import matplotlib.pyplot as plt\n",
    "import matplotlib as mpl\n",
    "import japanize_matplotlib\n",
    "from matplotlib.animation import FuncAnimation, PillowWriter\n",
    "import math\n",
    "\n",
    "from data_utils import extract_week_reached_units"
   ]
  },
  {
   "cell_type": "code",
   "execution_count": 7,
   "metadata": {},
   "outputs": [],
   "source": [
    "# spark initialization\n",
    "spark = SparkSession.builder.appName(\"gamedata\").getOrCreate()\n",
    "# load master database\n",
    "hard_sales = spark.read.parquet(\"../database/parquet/hard_sales\")\n",
    "\n"
   ]
  },
  {
   "cell_type": "code",
   "execution_count": 8,
   "metadata": {},
   "outputs": [
    {
     "name": "stdout",
     "output_type": "stream",
     "text": [
      "+------+--------+--------------------+----------+----------+----+-----+----------+-----------+---------+----------+\n",
      "|    hw|   maker|           full_name|begin_date|  end_date|year|month|launch_day|launch_year|sum_units|delta_week|\n",
      "+------+--------+--------------------+----------+----------+----+-----+----------+-----------+---------+----------+\n",
      "|   GBA|Nintendo|    GAME BOY ADVANCE|2001-09-03|2001-09-09|2001|    9|2001-03-21|       2001|  3051289|        24|\n",
      "|   Wii|Nintendo|                 Wii|2007-07-09|2007-07-15|2007|    7|2006-12-02|       2006|  3014827|        32|\n",
      "|    DS|Nintendo|         Nintendo DS|2005-09-12|2005-09-18|2005|    9|2004-12-02|       2004|  3015411|        41|\n",
      "|   PS2|    SONY|        PlayStation2|2000-12-11|2000-12-17|2000|   12|2000-03-04|       2000|  3005741|        41|\n",
      "|   3DS|Nintendo|        Nintendo 3DS|2011-12-05|2011-12-11|2011|   12|2011-02-26|       2011|  3233570|        41|\n",
      "|Switch|Nintendo|     Nintendo Switch|2017-12-18|2017-12-24|2017|   12|2017-03-03|       2017|  3291903|        42|\n",
      "|   PKS|    SONY|       PocketStation|2000-03-06|2000-03-12|2000|    3|1999-01-23|       1999|  3006979|        59|\n",
      "|   PSP|    SONY|PlayStation Portable|2006-02-20|2006-02-26|2006|    2|2004-12-12|       2004|  3021490|        63|\n",
      "|    GC|Nintendo|   Nintendo GAMECUBE|2003-12-29|2004-01-04|2004|    1|2001-09-14|       2001|  3115527|       120|\n",
      "|   PS5|    SONY|        PlayStation5|2023-02-27|2023-03-05|2023|    3|2020-11-12|       2020|  3057112|       120|\n",
      "|   PS3|    SONY|        PlayStation3|2009-03-23|2009-03-29|2009|    3|2006-11-11|       2006|  3009391|       124|\n",
      "|   PS4|    SONY|        PlayStation4|2016-08-29|2016-09-04|2016|    9|2014-02-22|       2014|  3000870|       132|\n",
      "|  Vita|    SONY|    PlayStation Vita|2014-07-14|2014-07-20|2014|    7|2011-12-17|       2011|  3001331|       135|\n",
      "|  WiiU|Nintendo|                WiiU|2016-05-23|2016-05-29|2016|    5|2012-12-08|       2012|  3003044|       181|\n",
      "|    PS|    SONY|         PlayStation|2001-03-05|2001-03-11|2001|    3|1994-12-03|       1994|  3000709|       327|\n",
      "|    GB|Nintendo|            GAME BOY|1999-11-22|1999-11-28|1999|   11|1989-04-21|       1989|  3066700|       553|\n",
      "+------+--------+--------------------+----------+----------+----+-----+----------+-----------+---------+----------+\n",
      "\n"
     ]
    },
    {
     "data": {
      "text/plain": [
       "pyspark.sql.dataframe.DataFrame"
      ]
     },
     "execution_count": 8,
     "metadata": {},
     "output_type": "execute_result"
    }
   ],
   "source": [
    "reached_weeks_1m = extract_week_reached_units(hard_sales, 3000000)\n",
    "reached_weeks_1m.orderBy(\"delta_week\").show()\n"
   ]
  },
  {
   "cell_type": "code",
   "execution_count": null,
   "metadata": {},
   "outputs": [],
   "source": []
  }
 ],
 "metadata": {
  "kernelspec": {
   "display_name": "Python 3",
   "language": "python",
   "name": "python3"
  },
  "language_info": {
   "codemirror_mode": {
    "name": "ipython",
    "version": 3
   },
   "file_extension": ".py",
   "mimetype": "text/x-python",
   "name": "python",
   "nbconvert_exporter": "python",
   "pygments_lexer": "ipython3",
   "version": "-1.-1.-1"
  },
  "orig_nbformat": 4,
  "vscode": {
   "interpreter": {
    "hash": "b0fa6594d8f4cbf19f97940f81e996739fb7646882a419484c72d19e05852a7e"
   }
  }
 },
 "nbformat": 4,
 "nbformat_minor": 2
}
