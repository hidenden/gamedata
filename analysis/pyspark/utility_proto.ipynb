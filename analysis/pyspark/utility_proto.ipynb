{
 "cells": [
  {
   "cell_type": "code",
   "execution_count": 6,
   "metadata": {},
   "outputs": [],
   "source": [
    "from pyspark.sql import functions as F\n",
    "from pyspark.sql import SparkSession\n",
    "import matplotlib.pyplot as plt\n",
    "from plot_utils import plot_monthly_sales_by_hw\n",
    "from data_utils import load_hard_sales\n",
    "from pyspark.sql.dataframe import DataFrame\n",
    "from typing import List, Optional\n",
    "\n",
    "hard_sales = load_hard_sales()\n"
   ]
  },
  {
   "cell_type": "code",
   "execution_count": 3,
   "metadata": {},
   "outputs": [
    {
     "name": "stdout",
     "output_type": "stream",
     "text": [
      "+-----+----------+----------+------+----+-----+----------+---------+----------------+-----------+---------+----------+----------+---------+----+\n",
      "|   hw|begin_date|  end_date| units|year|month|launch_day|    maker|       full_name|launch_year|delta_day|delta_week|delta_year|sum_units|week|\n",
      "+-----+----------+----------+------+----+-----+----------+---------+----------------+-----------+---------+----------+----------+---------+----+\n",
      "|  3DS|2016-11-28|2016-12-04| 62267|2016|   12|2011-02-26| Nintendo|    Nintendo 3DS|       2011|     2108|       301|         5| 21268377|  48|\n",
      "|  PS4|2016-11-28|2016-12-04|116593|2016|   12|2014-02-22|     SONY|    PlayStation4|       2014|     1016|       145|         2|  3625775|  48|\n",
      "| Vita|2016-11-28|2016-12-04| 14853|2016|   12|2011-12-17|     SONY|PlayStation Vita|       2011|     1814|       259|         5|  5104403|  48|\n",
      "| WiiU|2016-11-28|2016-12-04|  4713|2016|   12|2012-12-08| Nintendo|            WiiU|       2012|     1457|       208|         4|  3120363|  48|\n",
      "|XBOne|2016-11-28|2016-12-04|   315|2016|   12|2014-09-04|Microsoft|         XboxOne|       2014|      822|       117|         2|    70520|  48|\n",
      "+-----+----------+----------+------+----+-----+----------+---------+----------------+-----------+---------+----------+----------+---------+----+\n",
      "\n"
     ]
    }
   ],
   "source": [
    "# 指定された日付がbegin_date以降､ end_date以前のレコードをフィルタする\n",
    "\n",
    "target_date = F.to_date(F.lit(\"2016-11-29\"))\n",
    "the_sales = hard_sales.filter(F.col(\"begin_date\") <= target_date).filter(target_date <= F.col(\"end_date\"))\n",
    "the_sales.show()"
   ]
  },
  {
   "cell_type": "code",
   "execution_count": 4,
   "metadata": {},
   "outputs": [
    {
     "name": "stdout",
     "output_type": "stream",
     "text": [
      "+---+----------+----------+------+----+-----+----------+-----+------------+-----------+---------+----------+----------+---------+----+\n",
      "| hw|begin_date|  end_date| units|year|month|launch_day|maker|   full_name|launch_year|delta_day|delta_week|delta_year|sum_units|week|\n",
      "+---+----------+----------+------+----+-----+----------+-----+------------+-----------+---------+----------+----------+---------+----+\n",
      "|PS4|2016-11-28|2016-12-04|116593|2016|   12|2014-02-22| SONY|PlayStation4|       2014|     1016|       145|         2|  3625775|  48|\n",
      "+---+----------+----------+------+----+-----+----------+-----+------------+-----------+---------+----------+----------+---------+----+\n",
      "\n"
     ]
    }
   ],
   "source": [
    "# さらにhw名でフィルタする\n",
    "\n",
    "the_sales.filter(F.col(\"hw\") == \"PS4\").show()"
   ]
  },
  {
   "cell_type": "code",
   "execution_count": 8,
   "metadata": {},
   "outputs": [],
   "source": [
    "def extract_by_date(df:DataFrame, date_str:str, hw_names:Optional[List[str]] = None) -> DataFrame:\n",
    "    target_date = F.to_date(F.lit(date_str))\n",
    "    out_df = df.filter(F.col(\"begin_date\") <= target_date).filter(target_date <= F.col(\"end_date\"))\n",
    "    if hw_names != None:\n",
    "        out_df = out_df.filter(out_df['hw'].isin(*hw_names))\n",
    "\n",
    "    return out_df"
   ]
  },
  {
   "cell_type": "code",
   "execution_count": 10,
   "metadata": {},
   "outputs": [
    {
     "name": "stdout",
     "output_type": "stream",
     "text": [
      "+-----+----------+----------+------+----+-----+----------+---------+----------------+-----------+---------+----------+----------+---------+----+\n",
      "|   hw|begin_date|  end_date| units|year|month|launch_day|    maker|       full_name|launch_year|delta_day|delta_week|delta_year|sum_units|week|\n",
      "+-----+----------+----------+------+----+-----+----------+---------+----------------+-----------+---------+----------+----------+---------+----+\n",
      "|  3DS|2016-11-28|2016-12-04| 62267|2016|   12|2011-02-26| Nintendo|    Nintendo 3DS|       2011|     2108|       301|         5| 21268377|  48|\n",
      "|  PS4|2016-11-28|2016-12-04|116593|2016|   12|2014-02-22|     SONY|    PlayStation4|       2014|     1016|       145|         2|  3625775|  48|\n",
      "| Vita|2016-11-28|2016-12-04| 14853|2016|   12|2011-12-17|     SONY|PlayStation Vita|       2011|     1814|       259|         5|  5104403|  48|\n",
      "| WiiU|2016-11-28|2016-12-04|  4713|2016|   12|2012-12-08| Nintendo|            WiiU|       2012|     1457|       208|         4|  3120363|  48|\n",
      "|XBOne|2016-11-28|2016-12-04|   315|2016|   12|2014-09-04|Microsoft|         XboxOne|       2014|      822|       117|         2|    70520|  48|\n",
      "+-----+----------+----------+------+----+-----+----------+---------+----------------+-----------+---------+----------+----------+---------+----+\n",
      "\n"
     ]
    }
   ],
   "source": [
    "extract_by_date(hard_sales, '2016-11-29').show()"
   ]
  },
  {
   "cell_type": "code",
   "execution_count": null,
   "metadata": {},
   "outputs": [],
   "source": []
  }
 ],
 "metadata": {
  "kernelspec": {
   "display_name": "Python 3",
   "language": "python",
   "name": "python3"
  },
  "language_info": {
   "codemirror_mode": {
    "name": "ipython",
    "version": 3
   },
   "file_extension": ".py",
   "mimetype": "text/x-python",
   "name": "python",
   "nbconvert_exporter": "python",
   "pygments_lexer": "ipython3",
   "version": "3.10.8"
  },
  "orig_nbformat": 4
 },
 "nbformat": 4,
 "nbformat_minor": 2
}
