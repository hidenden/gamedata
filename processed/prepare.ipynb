{
 "cells": [
  {
   "cell_type": "code",
   "execution_count": 1,
   "id": "a0b7bfd5-cb22-4f15-bcfd-e65c698c2d2e",
   "metadata": {},
   "outputs": [],
   "source": [
    "import pandas as pd\n",
    "import numpy as np\n",
    "import datetime\n",
    "import re\n",
    "import matplotlib.pyplot as plt\n",
    "import matplotlib as mpl\n",
    "import japanize_matplotlib\n",
    "import csv"
   ]
  },
  {
   "cell_type": "code",
   "execution_count": 2,
   "id": "5d26e6ae-5e3a-45f5-ab4a-50c68bed9394",
   "metadata": {},
   "outputs": [],
   "source": [
    "hw_weekly = pd.read_csv(\"weekly_hard_1999_2022.csv\", index_col=\"end_date\", parse_dates=[1])\n",
    "hw_weekly."
   ]
  },
  {
   "cell_type": "code",
   "execution_count": 48,
   "id": "0f88c384-f4ce-45ae-a3e3-3a1dc6ea516a",
   "metadata": {},
   "outputs": [
    {
     "data": {
      "text/plain": [
       "end_date\n",
       "1998-10-18        PS\n",
       "1998-10-18        GB\n",
       "1998-10-18       N64\n",
       "1998-10-18    SATURN\n",
       "1998-10-25        GB\n",
       "               ...  \n",
       "2022-05-22       3DS\n",
       "2022-05-22    Switch\n",
       "2022-05-22       PS4\n",
       "2022-05-22       PS5\n",
       "2022-05-22       XSX\n",
       "Name: hw, Length: 7794, dtype: object"
      ]
     },
     "execution_count": 48,
     "metadata": {},
     "output_type": "execute_result"
    }
   ],
   "source": [
    "hw = hw_weekly.drop(\"begin_date\", axis=1)\n",
    "hw[\"hw\"]"
   ]
  },
  {
   "cell_type": "code",
   "execution_count": 45,
   "id": "8e8273c5-04e9-431f-ac7e-0c344bde58a5",
   "metadata": {},
   "outputs": [],
   "source": [
    "def single_df(df, hwname):\n",
    "    df2 = df[df['hw'] == hwname].drop(\"hw\", axis=1).rename(columns={\"units\":hwname})\n",
    "    return df2"
   ]
  },
  {
   "cell_type": "code",
   "execution_count": 46,
   "id": "a5a7dcb6-f49c-4de8-8218-c8ae4b7b2ad7",
   "metadata": {},
   "outputs": [
    {
     "data": {
      "text/html": [
       "<div>\n",
       "<style scoped>\n",
       "    .dataframe tbody tr th:only-of-type {\n",
       "        vertical-align: middle;\n",
       "    }\n",
       "\n",
       "    .dataframe tbody tr th {\n",
       "        vertical-align: top;\n",
       "    }\n",
       "\n",
       "    .dataframe thead th {\n",
       "        text-align: right;\n",
       "    }\n",
       "</style>\n",
       "<table border=\"1\" class=\"dataframe\">\n",
       "  <thead>\n",
       "    <tr style=\"text-align: right;\">\n",
       "      <th></th>\n",
       "      <th>SATURN</th>\n",
       "    </tr>\n",
       "    <tr>\n",
       "      <th>end_date</th>\n",
       "      <th></th>\n",
       "    </tr>\n",
       "  </thead>\n",
       "  <tbody>\n",
       "    <tr>\n",
       "      <th>1998-10-18</th>\n",
       "      <td>858</td>\n",
       "    </tr>\n",
       "    <tr>\n",
       "      <th>1998-10-25</th>\n",
       "      <td>1061</td>\n",
       "    </tr>\n",
       "    <tr>\n",
       "      <th>1998-11-01</th>\n",
       "      <td>1027</td>\n",
       "    </tr>\n",
       "    <tr>\n",
       "      <th>1998-11-08</th>\n",
       "      <td>824</td>\n",
       "    </tr>\n",
       "    <tr>\n",
       "      <th>1998-11-15</th>\n",
       "      <td>1144</td>\n",
       "    </tr>\n",
       "    <tr>\n",
       "      <th>1998-11-22</th>\n",
       "      <td>528</td>\n",
       "    </tr>\n",
       "  </tbody>\n",
       "</table>\n",
       "</div>"
      ],
      "text/plain": [
       "            SATURN\n",
       "end_date          \n",
       "1998-10-18     858\n",
       "1998-10-25    1061\n",
       "1998-11-01    1027\n",
       "1998-11-08     824\n",
       "1998-11-15    1144\n",
       "1998-11-22     528"
      ]
     },
     "execution_count": 46,
     "metadata": {},
     "output_type": "execute_result"
    }
   ],
   "source": [
    "saturn_df = single_df(hw, \"SATURN\")\n",
    "saturn_df"
   ]
  },
  {
   "cell_type": "code",
   "execution_count": 94,
   "id": "bcdff1e5-3aaa-4bd5-bbfb-a43eb9fb00a2",
   "metadata": {},
   "outputs": [],
   "source": [
    "hw_weekly_df = pd.read_pickle(\"weekly_hard_1999_2022.pkl\")\n",
    "HW = ['3DS', 'DC','DS', 'GB', 'GBA', 'GC', 'N64', 'NeoGeoP', 'Switch',\n",
    "    'PS', 'PS2', 'PS3', 'PS4', 'PS5', 'PSP', 'WS', 'SATURN', 'Vita',\n",
    "    'Wii', 'WiiU', 'XB360', 'XBOne','XSX', 'Xbox', 'PKS']\n",
    "hw_dfs = {}\n",
    "for h in HW:\n",
    "    hw_dfs[h] = single_df(hw_weekly_df, h)\n"
   ]
  },
  {
   "cell_type": "code",
   "execution_count": 95,
   "id": "b3e81e56-186f-417d-8d63-dbcec3c0ca73",
   "metadata": {},
   "outputs": [],
   "source": [
    "hw_dfs_list = []\n",
    "for h in HW[1:]:\n",
    "    hw_dfs_list.append(hw_dfs[h])\n"
   ]
  },
  {
   "cell_type": "code",
   "execution_count": 96,
   "id": "d4e14125-818a-4234-8231-0da3ee6838fc",
   "metadata": {},
   "outputs": [],
   "source": [
    "weekly_hw_df = hw_dfs['3DS'].join(hw_dfs_list, how=\"outer\")"
   ]
  },
  {
   "cell_type": "code",
   "execution_count": 102,
   "id": "4b76117a-bc74-4693-a7e0-3654629f1048",
   "metadata": {},
   "outputs": [],
   "source": [
    "weekly_hw_df.to_csv(\"hard_weekly.csv\")"
   ]
  },
  {
   "cell_type": "code",
   "execution_count": 101,
   "id": "f4339ac7-53b0-4981-a53b-e8f80cb469c5",
   "metadata": {},
   "outputs": [
    {
     "data": {
      "text/html": [
       "<div>\n",
       "<style scoped>\n",
       "    .dataframe tbody tr th:only-of-type {\n",
       "        vertical-align: middle;\n",
       "    }\n",
       "\n",
       "    .dataframe tbody tr th {\n",
       "        vertical-align: top;\n",
       "    }\n",
       "\n",
       "    .dataframe thead th {\n",
       "        text-align: right;\n",
       "    }\n",
       "</style>\n",
       "<table border=\"1\" class=\"dataframe\">\n",
       "  <thead>\n",
       "    <tr style=\"text-align: right;\">\n",
       "      <th></th>\n",
       "      <th>PS5</th>\n",
       "      <th>PS4</th>\n",
       "    </tr>\n",
       "    <tr>\n",
       "      <th>end_date</th>\n",
       "      <th></th>\n",
       "      <th></th>\n",
       "    </tr>\n",
       "  </thead>\n",
       "  <tbody>\n",
       "    <tr>\n",
       "      <th>1998-10-18</th>\n",
       "      <td>NaN</td>\n",
       "      <td>NaN</td>\n",
       "    </tr>\n",
       "    <tr>\n",
       "      <th>1998-10-25</th>\n",
       "      <td>NaN</td>\n",
       "      <td>NaN</td>\n",
       "    </tr>\n",
       "    <tr>\n",
       "      <th>1998-11-01</th>\n",
       "      <td>NaN</td>\n",
       "      <td>NaN</td>\n",
       "    </tr>\n",
       "    <tr>\n",
       "      <th>1998-11-08</th>\n",
       "      <td>NaN</td>\n",
       "      <td>NaN</td>\n",
       "    </tr>\n",
       "    <tr>\n",
       "      <th>1998-11-15</th>\n",
       "      <td>NaN</td>\n",
       "      <td>NaN</td>\n",
       "    </tr>\n",
       "    <tr>\n",
       "      <th>...</th>\n",
       "      <td>...</td>\n",
       "      <td>...</td>\n",
       "    </tr>\n",
       "    <tr>\n",
       "      <th>2022-04-24</th>\n",
       "      <td>17681.0</td>\n",
       "      <td>12.0</td>\n",
       "    </tr>\n",
       "    <tr>\n",
       "      <th>2022-05-01</th>\n",
       "      <td>24899.0</td>\n",
       "      <td>40.0</td>\n",
       "    </tr>\n",
       "    <tr>\n",
       "      <th>2022-05-08</th>\n",
       "      <td>24899.0</td>\n",
       "      <td>40.0</td>\n",
       "    </tr>\n",
       "    <tr>\n",
       "      <th>2022-05-15</th>\n",
       "      <td>2693.0</td>\n",
       "      <td>22.0</td>\n",
       "    </tr>\n",
       "    <tr>\n",
       "      <th>2022-05-22</th>\n",
       "      <td>14277.0</td>\n",
       "      <td>20.0</td>\n",
       "    </tr>\n",
       "  </tbody>\n",
       "</table>\n",
       "<p>1230 rows × 2 columns</p>\n",
       "</div>"
      ],
      "text/plain": [
       "                PS5   PS4\n",
       "end_date                 \n",
       "1998-10-18      NaN   NaN\n",
       "1998-10-25      NaN   NaN\n",
       "1998-11-01      NaN   NaN\n",
       "1998-11-08      NaN   NaN\n",
       "1998-11-15      NaN   NaN\n",
       "...             ...   ...\n",
       "2022-04-24  17681.0  12.0\n",
       "2022-05-01  24899.0  40.0\n",
       "2022-05-08  24899.0  40.0\n",
       "2022-05-15   2693.0  22.0\n",
       "2022-05-22  14277.0  20.0\n",
       "\n",
       "[1230 rows x 2 columns]"
      ]
     },
     "execution_count": 101,
     "metadata": {},
     "output_type": "execute_result"
    }
   ],
   "source": [
    "weekly_hw_df[[\"PS5\", \"PS4\"]]"
   ]
  },
  {
   "cell_type": "code",
   "execution_count": 88,
   "id": "b408a36a-f786-4dac-911a-f934a1118d1e",
   "metadata": {},
   "outputs": [
    {
     "data": {
      "text/html": [
       "<div>\n",
       "<style scoped>\n",
       "    .dataframe tbody tr th:only-of-type {\n",
       "        vertical-align: middle;\n",
       "    }\n",
       "\n",
       "    .dataframe tbody tr th {\n",
       "        vertical-align: top;\n",
       "    }\n",
       "\n",
       "    .dataframe thead th {\n",
       "        text-align: right;\n",
       "    }\n",
       "</style>\n",
       "<table border=\"1\" class=\"dataframe\">\n",
       "  <thead>\n",
       "    <tr style=\"text-align: right;\">\n",
       "      <th></th>\n",
       "      <th>Switch</th>\n",
       "      <th>PS5</th>\n",
       "      <th>PS4</th>\n",
       "      <th>WiiU</th>\n",
       "      <th>PS3</th>\n",
       "      <th>3DS</th>\n",
       "      <th>Wii</th>\n",
       "      <th>DS</th>\n",
       "      <th>XBOne</th>\n",
       "    </tr>\n",
       "    <tr>\n",
       "      <th>end_date</th>\n",
       "      <th></th>\n",
       "      <th></th>\n",
       "      <th></th>\n",
       "      <th></th>\n",
       "      <th></th>\n",
       "      <th></th>\n",
       "      <th></th>\n",
       "      <th></th>\n",
       "      <th></th>\n",
       "    </tr>\n",
       "  </thead>\n",
       "  <tbody>\n",
       "    <tr>\n",
       "      <th>2004-12-05</th>\n",
       "      <td>NaN</td>\n",
       "      <td>NaN</td>\n",
       "      <td>NaN</td>\n",
       "      <td>NaN</td>\n",
       "      <td>NaN</td>\n",
       "      <td>NaN</td>\n",
       "      <td>NaN</td>\n",
       "      <td>441485.0</td>\n",
       "      <td>NaN</td>\n",
       "    </tr>\n",
       "    <tr>\n",
       "      <th>2004-12-12</th>\n",
       "      <td>NaN</td>\n",
       "      <td>NaN</td>\n",
       "      <td>NaN</td>\n",
       "      <td>NaN</td>\n",
       "      <td>NaN</td>\n",
       "      <td>NaN</td>\n",
       "      <td>NaN</td>\n",
       "      <td>181231.0</td>\n",
       "      <td>NaN</td>\n",
       "    </tr>\n",
       "    <tr>\n",
       "      <th>2004-12-19</th>\n",
       "      <td>NaN</td>\n",
       "      <td>NaN</td>\n",
       "      <td>NaN</td>\n",
       "      <td>NaN</td>\n",
       "      <td>NaN</td>\n",
       "      <td>NaN</td>\n",
       "      <td>NaN</td>\n",
       "      <td>220295.0</td>\n",
       "      <td>NaN</td>\n",
       "    </tr>\n",
       "    <tr>\n",
       "      <th>2004-12-26</th>\n",
       "      <td>NaN</td>\n",
       "      <td>NaN</td>\n",
       "      <td>NaN</td>\n",
       "      <td>NaN</td>\n",
       "      <td>NaN</td>\n",
       "      <td>NaN</td>\n",
       "      <td>NaN</td>\n",
       "      <td>213417.0</td>\n",
       "      <td>NaN</td>\n",
       "    </tr>\n",
       "    <tr>\n",
       "      <th>2005-01-02</th>\n",
       "      <td>NaN</td>\n",
       "      <td>NaN</td>\n",
       "      <td>NaN</td>\n",
       "      <td>NaN</td>\n",
       "      <td>NaN</td>\n",
       "      <td>NaN</td>\n",
       "      <td>NaN</td>\n",
       "      <td>213417.0</td>\n",
       "      <td>NaN</td>\n",
       "    </tr>\n",
       "    <tr>\n",
       "      <th>...</th>\n",
       "      <td>...</td>\n",
       "      <td>...</td>\n",
       "      <td>...</td>\n",
       "      <td>...</td>\n",
       "      <td>...</td>\n",
       "      <td>...</td>\n",
       "      <td>...</td>\n",
       "      <td>...</td>\n",
       "      <td>...</td>\n",
       "    </tr>\n",
       "    <tr>\n",
       "      <th>2022-04-24</th>\n",
       "      <td>57490.0</td>\n",
       "      <td>17681.0</td>\n",
       "      <td>12.0</td>\n",
       "      <td>NaN</td>\n",
       "      <td>NaN</td>\n",
       "      <td>205.0</td>\n",
       "      <td>NaN</td>\n",
       "      <td>NaN</td>\n",
       "      <td>NaN</td>\n",
       "    </tr>\n",
       "    <tr>\n",
       "      <th>2022-05-01</th>\n",
       "      <td>88296.0</td>\n",
       "      <td>24899.0</td>\n",
       "      <td>40.0</td>\n",
       "      <td>NaN</td>\n",
       "      <td>NaN</td>\n",
       "      <td>226.0</td>\n",
       "      <td>NaN</td>\n",
       "      <td>NaN</td>\n",
       "      <td>NaN</td>\n",
       "    </tr>\n",
       "    <tr>\n",
       "      <th>2022-05-08</th>\n",
       "      <td>88296.0</td>\n",
       "      <td>24899.0</td>\n",
       "      <td>40.0</td>\n",
       "      <td>NaN</td>\n",
       "      <td>NaN</td>\n",
       "      <td>226.0</td>\n",
       "      <td>NaN</td>\n",
       "      <td>NaN</td>\n",
       "      <td>NaN</td>\n",
       "    </tr>\n",
       "    <tr>\n",
       "      <th>2022-05-15</th>\n",
       "      <td>65322.0</td>\n",
       "      <td>2693.0</td>\n",
       "      <td>22.0</td>\n",
       "      <td>NaN</td>\n",
       "      <td>NaN</td>\n",
       "      <td>235.0</td>\n",
       "      <td>NaN</td>\n",
       "      <td>NaN</td>\n",
       "      <td>NaN</td>\n",
       "    </tr>\n",
       "    <tr>\n",
       "      <th>2022-05-22</th>\n",
       "      <td>64839.0</td>\n",
       "      <td>14277.0</td>\n",
       "      <td>20.0</td>\n",
       "      <td>NaN</td>\n",
       "      <td>NaN</td>\n",
       "      <td>256.0</td>\n",
       "      <td>NaN</td>\n",
       "      <td>NaN</td>\n",
       "      <td>NaN</td>\n",
       "    </tr>\n",
       "  </tbody>\n",
       "</table>\n",
       "<p>912 rows × 9 columns</p>\n",
       "</div>"
      ],
      "text/plain": [
       "             Switch      PS5   PS4  WiiU  PS3    3DS  Wii        DS  XBOne\n",
       "end_date                                                                  \n",
       "2004-12-05      NaN      NaN   NaN   NaN  NaN    NaN  NaN  441485.0    NaN\n",
       "2004-12-12      NaN      NaN   NaN   NaN  NaN    NaN  NaN  181231.0    NaN\n",
       "2004-12-19      NaN      NaN   NaN   NaN  NaN    NaN  NaN  220295.0    NaN\n",
       "2004-12-26      NaN      NaN   NaN   NaN  NaN    NaN  NaN  213417.0    NaN\n",
       "2005-01-02      NaN      NaN   NaN   NaN  NaN    NaN  NaN  213417.0    NaN\n",
       "...             ...      ...   ...   ...  ...    ...  ...       ...    ...\n",
       "2022-04-24  57490.0  17681.0  12.0   NaN  NaN  205.0  NaN       NaN    NaN\n",
       "2022-05-01  88296.0  24899.0  40.0   NaN  NaN  226.0  NaN       NaN    NaN\n",
       "2022-05-08  88296.0  24899.0  40.0   NaN  NaN  226.0  NaN       NaN    NaN\n",
       "2022-05-15  65322.0   2693.0  22.0   NaN  NaN  235.0  NaN       NaN    NaN\n",
       "2022-05-22  64839.0  14277.0  20.0   NaN  NaN  256.0  NaN       NaN    NaN\n",
       "\n",
       "[912 rows x 9 columns]"
      ]
     },
     "execution_count": 88,
     "metadata": {},
     "output_type": "execute_result"
    }
   ],
   "source": [
    "sp = hw_dfs['Switch'].join([hw_dfs['PS5'], hw_dfs['PS4'], hw_dfs['WiiU'],\n",
    "                            hw_dfs['PS3'], hw_dfs['3DS'], hw_dfs['Wii'], hw_dfs['DS'], hw_dfs['XBOne']], how=\"outer\")\n",
    "sp"
   ]
  },
  {
   "cell_type": "code",
   "execution_count": 78,
   "id": "d19da669-74ca-4ed7-919d-fcab565b196d",
   "metadata": {},
   "outputs": [
    {
     "data": {
      "text/plain": [
       "<AxesSubplot:xlabel='end_date'>"
      ]
     },
     "execution_count": 78,
     "metadata": {},
     "output_type": "execute_result"
    },
    {
     "data": {
      "image/png": "[encoded data removed]",
      "text/plain": [
       "<Figure size 432x288 with 1 Axes>"
      ]
     },
     "metadata": {
      "needs_background": "light"
     },
     "output_type": "display_data"
    }
   ],
   "source": [
    "hard_frame\n",
    "#for h in HW[1:-1]:\n",
    "#    print(f'------{h}-------')\n",
    "#    print(hw_dfs[h])\n",
    "    # hard_frame = hard_frame.join(hw_dfs[h], lsuffix=\"_left\", how=\"outer\")\n",
    "\n",
    "#hard_frame\n",
    "sp = hw_dfs['Switch'].join([hw_dfs['PS5'], hw_dfs['PS4'], hw_dfs['WiiU'], hw_dfs['PS3'], hw_dfs['3DS'], hw_dfs['Wii'], hw_dfs['DS']], how=\"outer\")\n",
    "sp.cumsum().plot()\n"
   ]
  },
  {
   "cell_type": "code",
   "execution_count": 79,
   "id": "f6d62a57-26c9-480c-a5f1-d1ba542783d3",
   "metadata": {},
   "outputs": [
    {
     "data": {
      "text/plain": [
       "<AxesSubplot:xlabel='end_date'>"
      ]
     },
     "execution_count": 79,
     "metadata": {},
     "output_type": "execute_result"
    },
    {
     "data": {
      "image/png": "[encoded data removed]",
      "text/plain": [
       "<Figure size 432x288 with 1 Axes>"
      ]
     },
     "metadata": {
      "needs_background": "light"
     },
     "output_type": "display_data"
    }
   ],
   "source": [
    "sp.plot()"
   ]
  },
  {
   "cell_type": "code",
   "execution_count": null,
   "id": "892ade80-6f09-4107-a95d-e1ac5de68fe0",
   "metadata": {},
   "outputs": [],
   "source": []
  }
 ],
 "metadata": {
  "kernelspec": {
   "display_name": "Python 3 (ipykernel)",
   "language": "python",
   "name": "python3"
  },
  "language_info": {
   "codemirror_mode": {
    "name": "ipython",
    "version": 3
   },
   "file_extension": ".py",
   "mimetype": "text/x-python",
   "name": "python",
   "nbconvert_exporter": "python",
   "pygments_lexer": "ipython3",
   "version": "3.9.12"
  }
 },
 "nbformat": 4,
 "nbformat_minor": 5
}
