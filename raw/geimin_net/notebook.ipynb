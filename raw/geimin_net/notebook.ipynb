{
 "cells": [
  {
   "cell_type": "code",
   "execution_count": 11,
   "id": "330efb61-0860-49a7-ac51-facd3e3742c5",
   "metadata": {},
   "outputs": [],
   "source": [
    "import sys\n",
    "import datetime\n",
    "import re\n",
    "from typing import List\n",
    "import csv\n",
    "\n",
    "def load_geimin_csv(index: int) -> List: \n",
    "    file_name = f\"geimin_{index}.csv\"\n",
    "    with open(file_name, \"r\") as f:\n",
    "        reader = csv.reader(f)\n",
    "        rows = []\n",
    "        for row in reader:\n",
    "            rows.append(row)\n",
    "        return rows\n"
   ]
  },
  {
   "cell_type": "code",
   "execution_count": 14,
   "id": "feda5eb2-71b7-4fcf-8031-6f1835eb70d5",
   "metadata": {},
   "outputs": [],
   "source": [
    "geimin0 = load_geimin_csv(0)"
   ]
  },
  {
   "cell_type": "code",
   "execution_count": 16,
   "id": "ac21ea43-7f8d-4268-8414-6cecaf6ac52b",
   "metadata": {},
   "outputs": [
    {
     "data": {
      "text/plain": [
       "['517',\n",
       " 'PS 20918|GB 10867|N64 2965|SS 858',\n",
       " '『サンパギータ』|PS、SCE、1998/10/15、4800円、70524本（初）|（1998/10/12〜10/18）',\n",
       " '『ZEUS\\u3000CARNAGE HEART SECOND』|PS、アートディンク、32点(8/8/7/9)|『ヴァンパイアセイヴァーEXエディション』|PS、カプコン、32点(8/8/8/8)',\n",
       " '●―']"
      ]
     },
     "execution_count": 16,
     "metadata": {},
     "output_type": "execute_result"
    }
   ],
   "source": [
    "geimin0[1]"
   ]
  },
  {
   "cell_type": "code",
   "execution_count": 149,
   "id": "e0cf449f-ad77-4ce8-9e73-efc9f32fd0ca",
   "metadata": {},
   "outputs": [],
   "source": [
    "def parse_hw_cell(a_cell):\n",
    "    a_cell = a_cell.replace('（2週分）', '')\n",
    "    hwlines = a_cell.split('|')\n",
    "    hwdata = {}\n",
    "    for d in hwlines:\n",
    "        if '不明' in d:\n",
    "            continue\n",
    "        hw_raw_data = d.split(' ')\n",
    "        if len(hw_raw_data) == 2:\n",
    "            hwdata[hw_raw_data[0]] = hw_raw_data[1]\n",
    "    return hwdata"
   ]
  },
  {
   "cell_type": "code",
   "execution_count": 143,
   "id": "7a650568-f747-4ef4-8c16-ce33f1d14486",
   "metadata": {},
   "outputs": [],
   "source": [
    "def parse_date(a_cell):\n",
    "    res = re.search('([0-9]+)/([0-9]+)/([0-9]+)〜([0-9]+)/([0-9]+)/([0-9]+)', a_cell)\n",
    "    if res:\n",
    "        (begin_y, begin_m, begin_d, end_y, end_m, end_d) = res.groups()\n",
    "    else:\n",
    "        res = re.search('([0-9]+)/([0-9]+)/([0-9]+)〜([0-9]+)/([0-9]+)', a_cell)\n",
    "        if res:\n",
    "            (begin_y, begin_m, begin_d, end_m, end_d) = res.groups()\n",
    "            end_y = begin_y\n",
    "           \n",
    "    begin_date = datetime.date(int(begin_y), int(begin_m), int(begin_d))\n",
    "    end_date = datetime.date(int(end_y), int(end_m), int(end_d))\n",
    "    return [begin_date, end_date]"
   ]
  },
  {
   "cell_type": "code",
   "execution_count": 124,
   "id": "e825dc65-3f89-4b56-9bc8-fbd1e000a4cd",
   "metadata": {},
   "outputs": [],
   "source": [
    "def parse_row(cells):\n",
    "    hwdata = parse_hw_cell(cells[1])\n",
    "    begin_date, end_date = parse_date(cells[2])\n",
    "    return {\"begin\": begin_date,\n",
    "            \"end\": end_date,\n",
    "            \"hw\" : hwdata}\n",
    "   "
   ]
  },
  {
   "cell_type": "code",
   "execution_count": 156,
   "id": "77d437f5-ea12-4e95-a89c-735eb71bd51c",
   "metadata": {},
   "outputs": [
    {
     "data": {
      "text/plain": [
       "{'begin': datetime.date(1999, 12, 20),\n",
       " 'end': datetime.date(2000, 1, 2),\n",
       " 'hw': {'PS': '110131',\n",
       "  'DC': '83779',\n",
       "  'N64': '62741',\n",
       "  'GBC': '350915',\n",
       "  'NGP': '14187',\n",
       "  'WS': '68381',\n",
       "  'ps': '211803'}}"
      ]
     },
     "execution_count": 156,
     "metadata": {},
     "output_type": "execute_result"
    }
   ],
   "source": [
    "row_data = parse_row(geimin0[60])\n",
    "row_data"
   ]
  },
  {
   "cell_type": "code",
   "execution_count": 147,
   "id": "97537af8-c775-466d-9ab8-e9c8bb0150a6",
   "metadata": {},
   "outputs": [],
   "source": [
    "def datalines(row_data) -> List:\n",
    "    lines = []\n",
    "    for hw_name in row_data[\"hw\"].keys():\n",
    "        lines.append([row_data[\"begin\"],\n",
    "                      row_data[\"end\"],\n",
    "                      hw_name,\n",
    "                      row_data[\"hw\"][hw_name]])\n",
    "    return lines\n",
    "            "
   ]
  },
  {
   "cell_type": "code",
   "execution_count": 148,
   "id": "30dd7e4b-45bf-42dd-9a67-d1c9cf25c7be",
   "metadata": {},
   "outputs": [
    {
     "data": {
      "text/plain": [
       "[[datetime.date(1998, 12, 21), datetime.date(1999, 1, 3), 'GBC', '306276'],\n",
       " [datetime.date(1998, 12, 21), datetime.date(1999, 1, 3), 'PS', '276371'],\n",
       " [datetime.date(1998, 12, 21), datetime.date(1999, 1, 3), 'N64', '193044'],\n",
       " [datetime.date(1998, 12, 21), datetime.date(1999, 1, 3), 'DC', '134020'],\n",
       " [datetime.date(1998, 12, 21), datetime.date(1999, 1, 3), 'GB', '106468'],\n",
       " [datetime.date(1998, 12, 21), datetime.date(1999, 1, 3), 'NGP', '4272']]"
      ]
     },
     "execution_count": 148,
     "metadata": {},
     "output_type": "execute_result"
    }
   ],
   "source": [
    "datalines(row_data)"
   ]
  },
  {
   "cell_type": "code",
   "execution_count": 25,
   "id": "6a34c648-2fdf-4ddf-a5b1-b7fa8a7aacef",
   "metadata": {},
   "outputs": [
    {
     "data": {
      "text/plain": [
       "{'PS': '20918', 'GB': '10867', 'N64': '2965', 'SS': '858'}"
      ]
     },
     "execution_count": 25,
     "metadata": {},
     "output_type": "execute_result"
    }
   ],
   "source": [
    "\n",
    "hwlines = geimin0[1][1].split('|')\n",
    "hwdata = {}\n",
    "for d in hwlines:\n",
    "    (hw_name, hw_count) = d.split(' ')\n",
    "    hwdata[hw_name] = hw_count\n",
    "\n",
    "hwdata"
   ]
  },
  {
   "cell_type": "code",
   "execution_count": null,
   "id": "7328ebf6-494a-4786-babb-96cae63d2db9",
   "metadata": {},
   "outputs": [],
   "source": []
  },
  {
   "cell_type": "code",
   "execution_count": 69,
   "id": "34c4bcc4-f1bd-4046-bd8c-36a294cfdd71",
   "metadata": {},
   "outputs": [
    {
     "name": "stdout",
     "output_type": "stream",
     "text": [
      "『サンパギータ』|PS、SCE、1998/10/15、4800円、70524本（初）|（1998/10/12〜10/18）\n"
     ]
    },
    {
     "data": {
      "text/plain": [
       "\"'『サンパギータ』|PS、SCE、1998/10/15、4800円、70524本（初）|（1998/10/12〜10/18）'\""
      ]
     },
     "execution_count": 69,
     "metadata": {},
     "output_type": "execute_result"
    }
   ],
   "source": [
    "ss = geimin0[1][2]\n",
    "print(ss)\n",
    "repr(ss)"
   ]
  },
  {
   "cell_type": "code",
   "execution_count": 142,
   "id": "811670fb-01a8-487c-9108-77329d15eaa0",
   "metadata": {},
   "outputs": [
    {
     "name": "stdout",
     "output_type": "stream",
     "text": [
      "『チョコボの不思議なダンジョン2』|PS、スクウェア、1998/12/23、6800円、427842本（初）|（1998/12/21〜1999/1/3）\n",
      "('1998', '12', '21', '1999', '1')\n"
     ]
    }
   ],
   "source": [
    "sx = geimin0[11][2]\n",
    "print(sx)\n",
    "res = re.search('([0-9]+)/([0-9]+)/([0-9]+)〜([0-9]+)/([0-9]+)', sx)\n",
    "(begin_y, begin_m, begin_d, end_m, end_d) = res.groups()\n",
    "print(res.groups())"
   ]
  },
  {
   "cell_type": "code",
   "execution_count": 140,
   "id": "03b37059-1165-4d3d-a62a-914500cad377",
   "metadata": {},
   "outputs": [
    {
     "data": {
      "text/plain": [
       "'12'"
      ]
     },
     "execution_count": 140,
     "metadata": {},
     "output_type": "execute_result"
    }
   ],
   "source": [
    "begin_m"
   ]
  },
  {
   "cell_type": "code",
   "execution_count": 74,
   "id": "acce772e-63cd-4b99-a5dd-b59b947d962a",
   "metadata": {},
   "outputs": [
    {
     "data": {
      "text/plain": [
       "\"<re.Match object; span=(0, 16), match='1998/10/12〜10/18'>\""
      ]
     },
     "execution_count": 74,
     "metadata": {},
     "output_type": "execute_result"
    }
   ],
   "source": [
    "sz = '1998/10/12〜10/18'\n",
    "ss = sz\n",
    "m = re.match('([0-9]+)/([0-9]+)/([0-9]+)〜([0-9]+)/([0-9]+)', ss)\n",
    "repr(m)"
   ]
  },
  {
   "cell_type": "code",
   "execution_count": 158,
   "id": "d1101a88-908e-4ff3-808b-cf6f670bf950",
   "metadata": {},
   "outputs": [
    {
     "name": "stdout",
     "output_type": "stream",
     "text": [
      "0\n",
      "1\n",
      "2\n",
      "3\n",
      "4\n",
      "5\n",
      "6\n",
      "7\n",
      "8\n",
      "9\n"
     ]
    }
   ],
   "source": [
    "for i in range(10):\n",
    "    print(i)\n",
    "    "
   ]
  },
  {
   "cell_type": "code",
   "execution_count": null,
   "id": "7f3b2dda-e771-4cd4-915d-0cd7ce81a7fd",
   "metadata": {},
   "outputs": [],
   "source": []
  }
 ],
 "metadata": {
  "kernelspec": {
   "display_name": "Python 3 (ipykernel)",
   "language": "python",
   "name": "python3"
  },
  "language_info": {
   "codemirror_mode": {
    "name": "ipython",
    "version": 3
   },
   "file_extension": ".py",
   "mimetype": "text/x-python",
   "name": "python",
   "nbconvert_exporter": "python",
   "pygments_lexer": "ipython3",
   "version": "3.9.12"
  }
 },
 "nbformat": 4,
 "nbformat_minor": 5
}
