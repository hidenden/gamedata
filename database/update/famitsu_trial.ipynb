{
 "cells": [
  {
   "cell_type": "code",
   "execution_count": 72,
   "id": "a6406be0",
   "metadata": {},
   "outputs": [],
   "source": [
    "import os\n",
    "import sys\n",
    "import requests\n",
    "import datetime\n",
    "import re\n",
    "from typing import Tuple, List\n",
    "import csv\n",
    "from cachecontrol.caches import FileCache\n",
    "from cachecontrol import CacheControlAdapter\n",
    "from cachecontrol.heuristics import LastModified\n",
    "from bs4 import BeautifulSoup\n",
    "from datetime import datetime\n",
    "from kanjize import kanji2number\n",
    "\n",
    "# pip install lockfileが必要です\n",
    "\n"
   ]
  },
  {
   "cell_type": "code",
   "execution_count": 37,
   "id": "747dc048",
   "metadata": {},
   "outputs": [],
   "source": [
    "# ファミ通のハードウェア売上ページから、今週のハード売上リストと集計期間を取得する\n",
    "def get_famitsu_hwsales_page(url: str) -> Tuple[List[str], str]:\n",
    "    adapter = CacheControlAdapter(heuristic=LastModified(), cache=FileCache('_webcache'))\n",
    "    session = requests.Session()\n",
    "    session.mount('https://', adapter)\n",
    "    response = session.get(url)\n",
    "    soup = BeautifulSoup(response.content, \"html.parser\")\n",
    "\n",
    "    # ファミ通のハードウェア売上ページは、特定のクラス名を持つ要素からデータを抽出\n",
    "    # ここでは、\"article_detail_itemization_string\"クラスのspan要素\n",
    "    # と、\"article_detail_annotation\"クラスのspan要素を使用している\n",
    "    # これらの要素から、ハードウェア売上のリストと集計期間を取得する\n",
    "    items = soup.find_all(\"span\", attrs={\"class\": \"article_detail_itemization_string\"})\n",
    "    annotations = soup.find_all(\"span\", attrs={\"class\": \"article_detail_annotation\"})\n",
    "\n",
    "\n",
    "    raw_hard_sales = [item.get_text(strip=True) for item in items]\n",
    "    raw_report_date = annotations[-1].get_text(strip=True)\n",
    "\n",
    "    return raw_hard_sales, raw_report_date"
   ]
  },
  {
   "cell_type": "code",
   "execution_count": null,
   "id": "9f047b4c",
   "metadata": {},
   "outputs": [],
   "source": [
    "target_url = \"https://www.famitsu.com/article/202507/48013\"\n",
    "raw_sales, raw_report_date = get_famitsu_hwsales_page(target_url)\n"
   ]
  },
  {
   "cell_type": "code",
   "execution_count": 40,
   "id": "c9646a26",
   "metadata": {},
   "outputs": [
    {
     "data": {
      "text/plain": [
       "['Switch2／15万2165台（累計175万4876台）',\n",
       " 'Switch／2283台（累計2012万5249台）',\n",
       " 'Switch Lite／4276台（累計661万3787台）',\n",
       " 'Nintendo Switch（有機ELモデル）／5207台（累計909万7284台）',\n",
       " 'PS5／3635台（累計572万1126台）',\n",
       " 'PS5 デジタル・エディション／849台（累計97万9902台）',\n",
       " 'PS5 Pro／1664台（累計23万1290台）',\n",
       " 'Xbox Series X／61台（累計32万1043台）',\n",
       " 'Xbox Series X デジタルエディション／30台（累計21093台）',\n",
       " 'Xbox Series S／59台（累計33万8761台）',\n",
       " 'PS4／22台（累計792万9774台）']"
      ]
     },
     "execution_count": 40,
     "metadata": {},
     "output_type": "execute_result"
    }
   ],
   "source": [
    "raw_sales"
   ]
  },
  {
   "cell_type": "code",
   "execution_count": 65,
   "id": "6354fc1f",
   "metadata": {},
   "outputs": [],
   "source": [
    "def parse_hard_sales_lines(lines: List[str]) -> List[str]:\n",
    "    \"\"\"\n",
    "    Parse the hard sales lines to extract hardware names and sales data.\n",
    "    \"\"\"\n",
    "    hard_sales = []\n",
    "    for line in lines:\n",
    "        hard_sales_line = []\n",
    "        hw, rest = line.split(\"／\", 1)\n",
    "        weekly_units, cumulative_units = rest.split(\"台（累計\")\n",
    "        # cumulative_units = cumulative_units.rstrip(\"台）\")\n",
    "        hard_sales_line.append(hw.strip())\n",
    "    \n",
    "        sales_units = kanji2number(weekly_units.strip())\n",
    "        hard_sales_line.append(sales_units)\n",
    "\n",
    "        hard_sales.append(hard_sales_line)\n",
    "\n",
    "    return hard_sales\n"
   ]
  },
  {
   "cell_type": "code",
   "execution_count": 67,
   "id": "1f17a25b",
   "metadata": {},
   "outputs": [],
   "source": [
    "def normalize_hw_units(hard_sales: List[List[str]]) -> List[List[str]]:\n",
    "    \"\"\"\n",
    "    Normalize the hardware units in the hard sales list.\n",
    "    \"\"\"\n",
    "    HW_MAP = {\n",
    "        \"Switch2\": \"NS2\",\n",
    "        \"Switch\": \"NSW\",\n",
    "        \"Switch Lite\": \"NSW\",\n",
    "        \"Nintendo Switch（有機ELモデル）\": \"NSW\",\n",
    "        \"PS5\": \"PS5\",\n",
    "        \"PS5 デジタル・エディション\": \"PS5\",\n",
    "        \"PS5 Pro\": \"PS5\",\n",
    "        \"PS4\": \"PS4\",\n",
    "        \"Xbox Series X\": \"XSX\",\n",
    "        \"Xbox Series X デジタルエディション\": \"XSX\",\n",
    "        \"Xbox Series S\": \"XSX\"\n",
    "    }\n",
    "\n",
    "    normalized_sales = {}\n",
    "    for hw, units in hard_sales:\n",
    "        hw_name = HW_MAP.get(hw)\n",
    "        normalized_sales[hw_name] = normalized_sales.get(hw_name, 0) + units\n",
    "\n",
    "    normalized_list = []\n",
    "    for hw, units in normalized_sales.items():\n",
    "        normalized_list.append([hw, units])\n",
    "\n",
    "    return normalized_list"
   ]
  },
  {
   "cell_type": "code",
   "execution_count": 69,
   "id": "515304e0",
   "metadata": {},
   "outputs": [
    {
     "data": {
      "text/plain": [
       "[['Switch2', 152165],\n",
       " ['Switch', 2283],\n",
       " ['Switch Lite', 4276],\n",
       " ['Nintendo Switch（有機ELモデル）', 5207],\n",
       " ['PS5', 3635],\n",
       " ['PS5 デジタル・エディション', 849],\n",
       " ['PS5 Pro', 1664],\n",
       " ['Xbox Series X', 61],\n",
       " ['Xbox Series X デジタルエディション', 30],\n",
       " ['Xbox Series S', 59],\n",
       " ['PS4', 22]]"
      ]
     },
     "execution_count": 69,
     "metadata": {},
     "output_type": "execute_result"
    }
   ],
   "source": [
    "newlist = parse_hard_sales_lines(raw_sales)\n",
    "newlist"
   ]
  },
  {
   "cell_type": "code",
   "execution_count": 70,
   "id": "c040e4fc",
   "metadata": {},
   "outputs": [
    {
     "data": {
      "text/plain": [
       "[['NS2', 152165], ['NSW', 11766], ['PS5', 6148], ['XSX', 150], ['PS4', 22]]"
      ]
     },
     "execution_count": 70,
     "metadata": {},
     "output_type": "execute_result"
    }
   ],
   "source": [
    "newlist2 = normalize_hw_units(newlist)\n",
    "newlist2"
   ]
  },
  {
   "cell_type": "code",
   "execution_count": 42,
   "id": "446dfa02",
   "metadata": {},
   "outputs": [],
   "source": [
    "def extract_date_range(date_string: str) -> Tuple[datetime, datetime]:\n",
    "    \"\"\"\n",
    "    Extract two datetime objects from a string containing a date range.\n",
    "    \"\"\"\n",
    "    # 正規表現で日付を抽出\n",
    "    match = re.search(r\"(\\d{4}年\\d{1,2}月\\d{1,2}日)～(\\d{1,2}月\\d{1,2}日|\\d{4}年\\d{1,2}月\\d{1,2}日)\", date_string)\n",
    "    if not match:\n",
    "        raise ValueError(\"日付範囲が見つかりませんでした。\")\n",
    "\n",
    "    start_date_str, end_date_str = match.groups()\n",
    "\n",
    "    # 開始日をdatetimeに変換\n",
    "    start_date = datetime.strptime(start_date_str, \"%Y年%m月%d日\")\n",
    "\n",
    "    # 終了日の年が含まれているか確認\n",
    "    if \"年\" in end_date_str:\n",
    "        end_date = datetime.strptime(end_date_str, \"%Y年%m月%d日\")\n",
    "    else:\n",
    "        # 開始日の年を使用して終了日を補完\n",
    "        end_date = datetime.strptime(f\"{start_date.year}年{end_date_str}\", \"%Y年%m月%d日\")\n",
    "\n",
    "    return start_date, end_date\n",
    "\n",
    "start_date, end_date = extract_date_range(raw_report_date)"
   ]
  },
  {
   "cell_type": "code",
   "execution_count": 45,
   "id": "e9b006c2",
   "metadata": {},
   "outputs": [],
   "source": [
    "def calculate_date_range_days(start_date: datetime, end_date: datetime) -> Tuple[datetime, int]:\n",
    "    \"\"\"\n",
    "    Calculate the number of days from start_date to end_date (inclusive).\n",
    "    \"\"\"\n",
    "    delta_days = (end_date - start_date).days + 1  # +1 to include both start and end dates\n",
    "    return end_date, delta_days"
   ]
  },
  {
   "cell_type": "code",
   "execution_count": 81,
   "id": "342607c4",
   "metadata": {},
   "outputs": [],
   "source": [
    "start_date, end_date = extract_date_range(raw_report_date)\n",
    "end_date, period_date = calculate_date_range_days(start_date, end_date)\n",
    "\n",
    "# convert end_date to string for CSV output\n",
    "end_date_str = end_date.strftime(\"%Y-%m-%d\")"
   ]
  },
  {
   "cell_type": "code",
   "execution_count": 84,
   "id": "42f1ce53",
   "metadata": {},
   "outputs": [],
   "source": [
    "new_record = [[f\"{end_date_str}_{sales_line[0]}\", end_date_str, period_date, sales_line[0], sales_line[1]] for sales_line in newlist2]\n"
   ]
  },
  {
   "cell_type": "code",
   "execution_count": 85,
   "id": "ab2899a5",
   "metadata": {},
   "outputs": [
    {
     "data": {
      "text/plain": [
       "[['2025-07-20_NS2', '2025-07-20', 7, 'NS2', 152165],\n",
       " ['2025-07-20_NSW', '2025-07-20', 7, 'NSW', 11766],\n",
       " ['2025-07-20_PS5', '2025-07-20', 7, 'PS5', 6148],\n",
       " ['2025-07-20_XSX', '2025-07-20', 7, 'XSX', 150],\n",
       " ['2025-07-20_PS4', '2025-07-20', 7, 'PS4', 22]]"
      ]
     },
     "execution_count": 85,
     "metadata": {},
     "output_type": "execute_result"
    }
   ],
   "source": [
    "new_record"
   ]
  }
 ],
 "metadata": {
  "kernelspec": {
   "display_name": "Python 3",
   "language": "python",
   "name": "python3"
  },
  "language_info": {
   "codemirror_mode": {
    "name": "ipython",
    "version": 3
   },
   "file_extension": ".py",
   "mimetype": "text/x-python",
   "name": "python",
   "nbconvert_exporter": "python",
   "pygments_lexer": "ipython3",
   "version": "3.10.17"
  }
 },
 "nbformat": 4,
 "nbformat_minor": 5
}
