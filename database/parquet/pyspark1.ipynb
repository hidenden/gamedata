{
 "cells": [
  {
   "cell_type": "code",
   "execution_count": 4,
   "id": "6a71b03a-1edd-4d81-8cdb-b05ccc63ac6c",
   "metadata": {},
   "outputs": [],
   "source": [
    "# from pyspark.sql.functions import * とする場合もありますが、\n",
    "# Fで関数の名前空間を明示した方がわかりやすくて好きです。\n",
    "# ただ、FだとPEP8に違反していますが。。。\n",
    "from pyspark.sql import functions as F\n",
    "from pyspark.sql.types import FloatType, TimestampType, StringType\n",
    "from pyspark.sql.window import Window\n",
    "from pyspark import SparkContext\n",
    "from pyspark.sql import SparkSession\n",
    "from pyspark.sql.utils import AnalysisException"
   ]
  },
  {
   "cell_type": "code",
   "execution_count": 5,
   "id": "5caefc48-5d6c-43c6-ba61-e3509edf3339",
   "metadata": {},
   "outputs": [],
   "source": [
    "# spark initialization\n",
    "spark = SparkSession.builder.appName(\"gamedata\").getOrCreate()"
   ]
  },
  {
   "cell_type": "code",
   "execution_count": 7,
   "id": "7a0318da-d62d-4b1d-9c2f-003a170878d6",
   "metadata": {},
   "outputs": [],
   "source": [
    "df = spark.read.csv(\"weekly_hard_1999_2022.csv\", header=True)"
   ]
  },
  {
   "cell_type": "code",
   "execution_count": 13,
   "id": "777c5376-cef1-4b6e-aa8e-a3b173fc5ff6",
   "metadata": {},
   "outputs": [
    {
     "name": "stdout",
     "output_type": "stream",
     "text": [
      "root\n",
      " |-- begin_date: string (nullable = true)\n",
      " |-- end_date: string (nullable = true)\n",
      " |-- hw: string (nullable = true)\n",
      " |-- units: string (nullable = true)\n",
      "\n"
     ]
    }
   ],
   "source": [
    "df.printSchema()"
   ]
  },
  {
   "cell_type": "code",
   "execution_count": 15,
   "id": "7fc9e820-74a0-41ef-9840-2774e1a9e9db",
   "metadata": {},
   "outputs": [],
   "source": [
    "df.write.csv(\"hard_database\", header=True)"
   ]
  },
  {
   "cell_type": "code",
   "execution_count": 17,
   "id": "4082ed5f-7654-4495-8ce5-d4af8e7af42f",
   "metadata": {},
   "outputs": [
    {
     "name": "stderr",
     "output_type": "stream",
     "text": [
      "                                                                                \r"
     ]
    }
   ],
   "source": [
    "df.write.parquet(\"hard_spark\")"
   ]
  },
  {
   "cell_type": "code",
   "execution_count": 18,
   "id": "7041deba-231c-4389-abb3-56c28ab1bc00",
   "metadata": {},
   "outputs": [],
   "source": [
    "df2 = spark.read.parquet(\"hard_spark\")"
   ]
  },
  {
   "cell_type": "code",
   "execution_count": 19,
   "id": "4bb7dba0-b1d4-4751-9d5d-d8ccbf1ef414",
   "metadata": {},
   "outputs": [
    {
     "data": {
      "text/plain": [
       "DataFrame[begin_date: string, end_date: string, hw: string, units: string]"
      ]
     },
     "execution_count": 19,
     "metadata": {},
     "output_type": "execute_result"
    }
   ],
   "source": [
    "df2"
   ]
  },
  {
   "cell_type": "code",
   "execution_count": 27,
   "id": "e7f69ca5-662e-4281-853f-694af082bf7a",
   "metadata": {},
   "outputs": [],
   "source": [
    "df3 = df.select(\n",
    "    F.col(\"end_date\").cast(\"date\"),\n",
    "    \"hw\",\n",
    "    F.col(\"units\").cast(\"int\"))"
   ]
  },
  {
   "cell_type": "code",
   "execution_count": 29,
   "id": "086d80bd-9256-4fee-873d-aeb4ce4d7a74",
   "metadata": {},
   "outputs": [
    {
     "name": "stdout",
     "output_type": "stream",
     "text": [
      "+----------+-------+------+\n",
      "|  end_date|     hw| units|\n",
      "+----------+-------+------+\n",
      "|1998-10-18|     PS| 20918|\n",
      "|1998-10-18|     GB| 10867|\n",
      "|1998-10-18|    N64|  2965|\n",
      "|1998-10-18| SATURN|   858|\n",
      "|1998-10-25|     GB|163017|\n",
      "|1998-10-25|     PS| 21151|\n",
      "|1998-10-25|    N64|  3813|\n",
      "|1998-10-25| SATURN|  1061|\n",
      "|1998-11-01|     GB| 71679|\n",
      "|1998-11-01|NeoGeoP| 21471|\n",
      "|1998-11-01|     PS| 20128|\n",
      "|1998-11-01|    N64|  3787|\n",
      "|1998-11-01| SATURN|  1027|\n",
      "|1998-11-08|     GB| 52586|\n",
      "|1998-11-08|     PS| 27171|\n",
      "|1998-11-08|    N64|  4962|\n",
      "|1998-11-08|NeoGeoP|  4688|\n",
      "|1998-11-08| SATURN|   824|\n",
      "|1998-11-15|     GB| 37727|\n",
      "|1998-11-15|     PS| 23575|\n",
      "+----------+-------+------+\n",
      "only showing top 20 rows\n",
      "\n"
     ]
    },
    {
     "name": "stderr",
     "output_type": "stream",
     "text": [
      "22/05/31 00:16:12 WARN HeartbeatReceiver: Removing executor driver with no recent heartbeats: 911090 ms exceeds timeout 120000 ms\n",
      "22/05/31 00:16:12 WARN SparkContext: Killing executors is not supported by current scheduler.\n"
     ]
    }
   ],
   "source": [
    "df3.show()"
   ]
  },
  {
   "cell_type": "code",
   "execution_count": null,
   "id": "aadbc02c-08e4-45fd-b722-3e86bcc6c1c8",
   "metadata": {},
   "outputs": [],
   "source": []
  }
 ],
 "metadata": {
  "kernelspec": {
   "display_name": "Python 3 (ipykernel)",
   "language": "python",
   "name": "python3"
  },
  "language_info": {
   "codemirror_mode": {
    "name": "ipython",
    "version": 3
   },
   "file_extension": ".py",
   "mimetype": "text/x-python",
   "name": "python",
   "nbconvert_exporter": "python",
   "pygments_lexer": "ipython3",
   "version": "3.9.12"
  }
 },
 "nbformat": 4,
 "nbformat_minor": 5
}
