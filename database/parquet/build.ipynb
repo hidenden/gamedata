{
 "cells": [
  {
   "cell_type": "code",
   "execution_count": 1,
   "id": "6a71b03a-1edd-4d81-8cdb-b05ccc63ac6c",
   "metadata": {},
   "outputs": [],
   "source": [
    "# from pyspark.sql.functions import * とする場合もありますが、\n",
    "# Fで関数の名前空間を明示した方がわかりやすくて好きです。\n",
    "# ただ、FだとPEP8に違反していますが。。。\n",
    "from pyspark.sql import functions as F\n",
    "from pyspark.sql.types import FloatType, TimestampType, StringType\n",
    "from pyspark.sql.window import Window\n",
    "from pyspark import SparkContext\n",
    "from pyspark.sql import SparkSession\n",
    "from pyspark.sql.utils import AnalysisException\n",
    "from pyspark.sql.functions import desc\n",
    "import shutil"
   ]
  },
  {
   "cell_type": "code",
   "execution_count": 2,
   "id": "5caefc48-5d6c-43c6-ba61-e3509edf3339",
   "metadata": {},
   "outputs": [
    {
     "name": "stderr",
     "output_type": "stream",
     "text": [
      "Setting default log level to \"WARN\".\n",
      "To adjust logging level use sc.setLogLevel(newLevel). For SparkR, use setLogLevel(newLevel).\n"
     ]
    },
    {
     "name": "stdout",
     "output_type": "stream",
     "text": [
      "23/08/23 14:31:08 WARN NativeCodeLoader: Unable to load native-hadoop library for your platform... using builtin-java classes where applicable\n",
      "23/08/23 14:31:08 WARN Utils: Service 'SparkUI' could not bind on port 4040. Attempting port 4041.\n"
     ]
    }
   ],
   "source": [
    "# spark initialization\n",
    "spark = SparkSession.builder.appName(\"gamedata\").getOrCreate()"
   ]
  },
  {
   "cell_type": "code",
   "execution_count": 3,
   "id": "7a0318da-d62d-4b1d-9c2f-003a170878d6",
   "metadata": {},
   "outputs": [],
   "source": [
    "df = spark.read.csv(\"../hard_weekly.csv\", header=True)\n",
    "\n",
    "df = df.select(\n",
    "    F.col(\"begin_date\").cast(\"date\"),\n",
    "    F.col(\"end_date\").cast(\"date\"),\n",
    "    \"hw\",\n",
    "    F.col(\"units\").cast(\"int\"))"
   ]
  },
  {
   "cell_type": "code",
   "execution_count": 4,
   "id": "7fc9e820-74a0-41ef-9840-2774e1a9e9db",
   "metadata": {},
   "outputs": [
    {
     "name": "stdout",
     "output_type": "stream",
     "text": [
      "root\n",
      " |-- begin_date: date (nullable = true)\n",
      " |-- end_date: date (nullable = true)\n",
      " |-- hw: string (nullable = true)\n",
      " |-- units: integer (nullable = true)\n",
      "\n"
     ]
    }
   ],
   "source": [
    "df.printSchema()"
   ]
  },
  {
   "cell_type": "code",
   "execution_count": 5,
   "id": "4082ed5f-7654-4495-8ce5-d4af8e7af42f",
   "metadata": {},
   "outputs": [
    {
     "name": "stderr",
     "output_type": "stream",
     "text": [
      "                                                                                \r"
     ]
    }
   ],
   "source": [
    "shutil.rmtree(\"hard_weekly\")\n",
    "df.write.parquet(\"hard_weekly\")"
   ]
  },
  {
   "cell_type": "code",
   "execution_count": 6,
   "id": "7041deba-231c-4389-abb3-56c28ab1bc00",
   "metadata": {},
   "outputs": [],
   "source": [
    "weekly = spark.read.parquet(\"hard_weekly\")"
   ]
  },
  {
   "cell_type": "code",
   "execution_count": 7,
   "id": "086d80bd-9256-4fee-873d-aeb4ce4d7a74",
   "metadata": {},
   "outputs": [
    {
     "data": {
      "text/plain": [
       "[Row(begin_date=datetime.date(2023, 7, 31), end_date=datetime.date(2023, 8, 6), hw='3DS', units=56),\n",
       " Row(begin_date=datetime.date(2023, 7, 31), end_date=datetime.date(2023, 8, 6), hw='Switch', units=93210),\n",
       " Row(begin_date=datetime.date(2023, 7, 31), end_date=datetime.date(2023, 8, 6), hw='PS4', units=789),\n",
       " Row(begin_date=datetime.date(2023, 7, 31), end_date=datetime.date(2023, 8, 6), hw='PS5', units=50358),\n",
       " Row(begin_date=datetime.date(2023, 7, 31), end_date=datetime.date(2023, 8, 6), hw='XSX', units=3276),\n",
       " Row(begin_date=datetime.date(2023, 8, 7), end_date=datetime.date(2023, 8, 13), hw='3DS', units=29),\n",
       " Row(begin_date=datetime.date(2023, 8, 7), end_date=datetime.date(2023, 8, 13), hw='Switch', units=91744),\n",
       " Row(begin_date=datetime.date(2023, 8, 7), end_date=datetime.date(2023, 8, 13), hw='PS4', units=1543),\n",
       " Row(begin_date=datetime.date(2023, 8, 7), end_date=datetime.date(2023, 8, 13), hw='PS5', units=50862),\n",
       " Row(begin_date=datetime.date(2023, 8, 7), end_date=datetime.date(2023, 8, 13), hw='XSX', units=2292)]"
      ]
     },
     "execution_count": 7,
     "metadata": {},
     "output_type": "execute_result"
    }
   ],
   "source": [
    "weekly.orderBy(\"end_date\").tail(10)"
   ]
  },
  {
   "cell_type": "code",
   "execution_count": 8,
   "id": "aadbc02c-08e4-45fd-b722-3e86bcc6c1c8",
   "metadata": {},
   "outputs": [],
   "source": [
    "hwinfo = spark.read.csv(\"../hard_info.csv\", header=True)\n",
    "\n",
    "hwinfo = hwinfo.select(\n",
    "    \"hw\",\n",
    "    F.col(\"launch_day\").cast(\"date\"),\n",
    "    \"maker\",\n",
    "    \"full_name\").sort(\"maker\")"
   ]
  },
  {
   "cell_type": "code",
   "execution_count": 9,
   "id": "6bd6fcc9-6da4-4a67-bd8d-7a4cdca98da1",
   "metadata": {},
   "outputs": [],
   "source": [
    "shutil.rmtree(\"hard_info\")\n",
    "hwinfo.write.parquet(\"hard_info\")"
   ]
  },
  {
   "cell_type": "code",
   "execution_count": 10,
   "id": "56d2f3b2-f278-49bc-8eb0-26390a33ab33",
   "metadata": {},
   "outputs": [
    {
     "name": "stdout",
     "output_type": "stream",
     "text": [
      "root\n",
      " |-- hw: string (nullable = true)\n",
      " |-- launch_day: date (nullable = true)\n",
      " |-- maker: string (nullable = true)\n",
      " |-- full_name: string (nullable = true)\n",
      "\n"
     ]
    }
   ],
   "source": [
    "hwinfo.printSchema()"
   ]
  },
  {
   "cell_type": "code",
   "execution_count": 11,
   "id": "3416bcad-9dc4-4074-a897-647b649b3a66",
   "metadata": {},
   "outputs": [
    {
     "name": "stdout",
     "output_type": "stream",
     "text": [
      "+-------+----------+---------+--------------------+\n",
      "|     hw|launch_day|    maker|           full_name|\n",
      "+-------+----------+---------+--------------------+\n",
      "|     WS|1999-03-04|   BANDAI|          WonderSwan|\n",
      "|    XSX|2020-11-10|Microsoft|     Xbox Series X|S|\n",
      "|  XB360|2005-12-10|Microsoft|             Xbox360|\n",
      "|   Xbox|2002-02-22|Microsoft|                Xbox|\n",
      "|  XBOne|2014-09-04|Microsoft|             XboxOne|\n",
      "|   WiiU|2012-12-08| Nintendo|                WiiU|\n",
      "|    3DS|2011-02-26| Nintendo|        Nintendo 3DS|\n",
      "| Switch|2017-03-03| Nintendo|     Nintendo Switch|\n",
      "|     GB|1989-04-21| Nintendo|            GAME BOY|\n",
      "|    N64|1996-06-23| Nintendo|          NINTENDO64|\n",
      "|    Wii|2006-12-02| Nintendo|                 Wii|\n",
      "|     DS|2004-12-02| Nintendo|         Nintendo DS|\n",
      "|     GC|2001-09-14| Nintendo|   Nintendo GAMECUBE|\n",
      "|    GBA|2001-03-21| Nintendo|    GAME BOY ADVANCE|\n",
      "|     DC|1998-11-27|     SEGA|           DreamCast|\n",
      "| SATURN|1994-11-22|     SEGA|         SEGA SATURN|\n",
      "|NeoGeoP|1998-10-28|      SNK|       NeoGeo Pocket|\n",
      "|    PS5|2020-11-12|     SONY|        PlayStation5|\n",
      "|    PS4|2014-02-22|     SONY|        PlayStation4|\n",
      "|    PKS|1999-01-23|     SONY|       PocketStation|\n",
      "|   Vita|2011-12-17|     SONY|    PlayStation Vita|\n",
      "|     PS|1994-12-03|     SONY|         PlayStation|\n",
      "|    PS3|2006-11-11|     SONY|        PlayStation3|\n",
      "|    PSP|2004-12-12|     SONY|PlayStation Portable|\n",
      "|    PS2|2000-03-04|     SONY|        PlayStation2|\n",
      "+-------+----------+---------+--------------------+\n",
      "\n"
     ]
    }
   ],
   "source": [
    "hwinfo.show(30)"
   ]
  },
  {
   "attachments": {},
   "cell_type": "markdown",
   "id": "39b6c218-594b-47e0-8d46-b50c13cf957f",
   "metadata": {},
   "source": [
    "## 基本に対して追加するカラム\n",
    "\n",
    "オリジナルデータに対して､データの追加､加工をしたよく使う分析用のデータフレームを用意する｡\n",
    "\n",
    "データフレーム名 \"hard_sales\"\n",
    "\n",
    "追加カラム\n",
    "\n",
    "- 累計 \"sum_units\"\n",
    "- end_dateの年 \"year\"\n",
    "- end_dateの月 \"month\"\n",
    "- 発売日 \"launch_day\"\n",
    "- メーカー \"maker\"\n",
    "- 名前 \"full_name\"\n",
    "- 経過日数 \"delta_day\"\n",
    "- 発売年 \"launch_year\"\n",
    "- 経過年 \"delta_year\"\n"
   ]
  },
  {
   "cell_type": "code",
   "execution_count": 12,
   "id": "90e43f01-7b7d-4350-94f8-fbd28791d79c",
   "metadata": {},
   "outputs": [],
   "source": [
    "df2 = df.withColumn(\"year\", F.year(F.col(\"end_date\"))).withColumn(\"month\", F.month(F.col(\"end_date\")))"
   ]
  },
  {
   "cell_type": "code",
   "execution_count": 13,
   "id": "758c1945-0a29-46d0-92df-7e8c54761854",
   "metadata": {},
   "outputs": [],
   "source": [
    "df2 = df2.join(hwinfo, \"hw\", 'left')"
   ]
  },
  {
   "cell_type": "code",
   "execution_count": 14,
   "id": "927f0f41-d3f9-470a-a26c-58a0c896e229",
   "metadata": {},
   "outputs": [],
   "source": [
    "df2 = df2.withColumn(\"launch_year\", F.year(F.col(\"launch_day\")))"
   ]
  },
  {
   "cell_type": "code",
   "execution_count": 15,
   "id": "3ae93193-2e8d-4f12-9286-5f5c4d00def1",
   "metadata": {},
   "outputs": [],
   "source": [
    "df2 = df2.withColumn(\"delta_day\", F.datediff(\"end_date\", \"launch_day\"))"
   ]
  },
  {
   "cell_type": "code",
   "execution_count": 16,
   "id": "aa5c9cd6-e667-401c-b7c3-82bf9089bad0",
   "metadata": {},
   "outputs": [],
   "source": [
    "df2 = df2.withColumn(\"delta_week\", (F.col(\"delta_day\") / 7).cast(\"int\"))"
   ]
  },
  {
   "cell_type": "code",
   "execution_count": 17,
   "id": "74ff8123-1106-47fa-ad92-e802de747208",
   "metadata": {},
   "outputs": [],
   "source": [
    "df2 = df2.withColumn(\"delta_year\", F.col(\"year\") - F.col(\"launch_year\"))"
   ]
  },
  {
   "cell_type": "code",
   "execution_count": 18,
   "id": "54aa85ec-e67f-43fb-b599-478021ba4de7",
   "metadata": {},
   "outputs": [],
   "source": [
    "w = Window.partitionBy(\"hw\").orderBy(\"end_date\").rangeBetween(Window.unboundedPreceding, 0)\n",
    "df2 = df2.withColumn(\"sum_units\", F.sum(\"units\").over(w)).sort(\"end_date\")"
   ]
  },
  {
   "cell_type": "code",
   "execution_count": 19,
   "id": "0a2c1ee5-f7a0-48fa-80e8-9fe30761db41",
   "metadata": {},
   "outputs": [],
   "source": [
    "df2 = df2.withColumn(\"week\", F.weekofyear(F.col(\"end_date\")))"
   ]
  },
  {
   "cell_type": "code",
   "execution_count": 20,
   "id": "0a091a8e-8481-4493-8c19-3fc43570edfd",
   "metadata": {},
   "outputs": [
    {
     "name": "stdout",
     "output_type": "stream",
     "text": [
      "root\n",
      " |-- hw: string (nullable = true)\n",
      " |-- begin_date: date (nullable = true)\n",
      " |-- end_date: date (nullable = true)\n",
      " |-- units: integer (nullable = true)\n",
      " |-- year: integer (nullable = true)\n",
      " |-- month: integer (nullable = true)\n",
      " |-- launch_day: date (nullable = true)\n",
      " |-- maker: string (nullable = true)\n",
      " |-- full_name: string (nullable = true)\n",
      " |-- launch_year: integer (nullable = true)\n",
      " |-- delta_day: integer (nullable = true)\n",
      " |-- delta_week: integer (nullable = true)\n",
      " |-- delta_year: integer (nullable = true)\n",
      " |-- sum_units: long (nullable = true)\n",
      " |-- week: integer (nullable = true)\n",
      "\n"
     ]
    }
   ],
   "source": [
    "df2.printSchema()"
   ]
  },
  {
   "cell_type": "code",
   "execution_count": 21,
   "id": "c75a35e0-57a8-42db-ae3d-0aab2efe06ac",
   "metadata": {},
   "outputs": [],
   "source": [
    "shutil.rmtree(\"hard_sales\")\n",
    "df2.write.parquet(\"hard_sales\")"
   ]
  },
  {
   "cell_type": "code",
   "execution_count": 22,
   "id": "9dca59aa",
   "metadata": {},
   "outputs": [
    {
     "name": "stdout",
     "output_type": "stream",
     "text": [
      "+------+----------+----------+-----+----+-----+----------+---------+---------------+-----------+---------+----------+----------+---------+----+\n",
      "|    hw|begin_date|  end_date|units|year|month|launch_day|    maker|      full_name|launch_year|delta_day|delta_week|delta_year|sum_units|week|\n",
      "+------+----------+----------+-----+----+-----+----------+---------+---------------+-----------+---------+----------+----------+---------+----+\n",
      "|   PS4|2023-08-07|2023-08-13| 1543|2023|    8|2014-02-22|     SONY|   PlayStation4|       2014|     3459|       494|         9|  9454173|  32|\n",
      "|Switch|2023-08-07|2023-08-13|91744|2023|    8|2017-03-03| Nintendo|Nintendo Switch|       2017|     2354|       336|         6| 30258477|  32|\n",
      "|   PS5|2023-08-07|2023-08-13|50862|2023|    8|2020-11-12|     SONY|   PlayStation5|       2020|     1004|       143|         3|  4147786|  32|\n",
      "|   3DS|2023-08-07|2023-08-13|   29|2023|    8|2011-02-26| Nintendo|   Nintendo 3DS|       2011|     4551|       650|        12| 24387433|  32|\n",
      "|   XSX|2023-08-07|2023-08-13| 2292|2023|    8|2020-11-10|Microsoft|Xbox Series X|S|       2020|     1006|       143|         3|   480981|  32|\n",
      "|Switch|2023-07-31|2023-08-06|93210|2023|    8|2017-03-03| Nintendo|Nintendo Switch|       2017|     2347|       335|         6| 30166733|  31|\n",
      "|   XSX|2023-07-31|2023-08-06| 3276|2023|    8|2020-11-10|Microsoft|Xbox Series X|S|       2020|      999|       142|         3|   478689|  31|\n",
      "|   3DS|2023-07-31|2023-08-06|   56|2023|    8|2011-02-26| Nintendo|   Nintendo 3DS|       2011|     4544|       649|        12| 24387404|  31|\n",
      "|   PS5|2023-07-31|2023-08-06|50358|2023|    8|2020-11-12|     SONY|   PlayStation5|       2020|      997|       142|         3|  4096924|  31|\n",
      "|   PS4|2023-07-31|2023-08-06|  789|2023|    8|2014-02-22|     SONY|   PlayStation4|       2014|     3452|       493|         9|  9452630|  31|\n",
      "|Switch|2023-07-24|2023-07-30|78326|2023|    7|2017-03-03| Nintendo|Nintendo Switch|       2017|     2340|       334|         6| 30073523|  30|\n",
      "|   PS5|2023-07-24|2023-07-30|53211|2023|    7|2020-11-12|     SONY|   PlayStation5|       2020|      990|       141|         3|  4046566|  30|\n",
      "|   3DS|2023-07-24|2023-07-30|   18|2023|    7|2011-02-26| Nintendo|   Nintendo 3DS|       2011|     4537|       648|        12| 24387348|  30|\n",
      "|   XSX|2023-07-24|2023-07-30| 1846|2023|    7|2020-11-10|Microsoft|Xbox Series X|S|       2020|      992|       141|         3|   475413|  30|\n",
      "|   PS4|2023-07-24|2023-07-30|  784|2023|    7|2014-02-22|     SONY|   PlayStation4|       2014|     3445|       492|         9|  9451841|  30|\n",
      "|   3DS|2023-07-17|2023-07-23|   22|2023|    7|2011-02-26| Nintendo|   Nintendo 3DS|       2011|     4530|       647|        12| 24387330|  29|\n",
      "|   PS5|2023-07-17|2023-07-23|46561|2023|    7|2020-11-12|     SONY|   PlayStation5|       2020|      983|       140|         3|  3993355|  29|\n",
      "|   PS4|2023-07-17|2023-07-23| 4309|2023|    7|2014-02-22|     SONY|   PlayStation4|       2014|     3438|       491|         9|  9451057|  29|\n",
      "|Switch|2023-07-17|2023-07-23|71180|2023|    7|2017-03-03| Nintendo|Nintendo Switch|       2017|     2333|       333|         6| 29995197|  29|\n",
      "|   XSX|2023-07-17|2023-07-23| 1158|2023|    7|2020-11-10|Microsoft|Xbox Series X|S|       2020|      985|       140|         3|   473567|  29|\n",
      "+------+----------+----------+-----+----+-----+----------+---------+---------------+-----------+---------+----------+----------+---------+----+\n",
      "only showing top 20 rows\n",
      "\n"
     ]
    }
   ],
   "source": [
    "df2.orderBy(desc(\"end_date\")).show()"
   ]
  },
  {
   "cell_type": "code",
   "execution_count": null,
   "id": "391e7c14",
   "metadata": {},
   "outputs": [],
   "source": []
  }
 ],
 "metadata": {
  "kernelspec": {
   "display_name": "Python 3",
   "language": "python",
   "name": "python3"
  },
  "language_info": {
   "codemirror_mode": {
    "name": "ipython",
    "version": 3
   },
   "file_extension": ".py",
   "mimetype": "text/x-python",
   "name": "python",
   "nbconvert_exporter": "python",
   "pygments_lexer": "ipython3",
   "version": "undefined.undefined.undefined"
  }
 },
 "nbformat": 4,
 "nbformat_minor": 5
}
