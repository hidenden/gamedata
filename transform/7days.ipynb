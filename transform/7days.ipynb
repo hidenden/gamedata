{
 "cells": [
  {
   "cell_type": "code",
   "execution_count": 15,
   "id": "cf7d7c08-e30c-44d0-93be-6ae195890195",
   "metadata": {},
   "outputs": [],
   "source": [
    "import sys\n",
    "import datetime\n",
    "from typing import List\n",
    "from typing import Dict\n",
    "import csv\n",
    "from dateutil import parser\n"
   ]
  },
  {
   "cell_type": "code",
   "execution_count": 2,
   "id": "60947815-b036-4a3f-924e-fd85a10207ea",
   "metadata": {},
   "outputs": [],
   "source": [
    "def load_csv(fname):\n",
    "    with open(fname, \"r\") as f:\n",
    "        reader = csv.reader(f)\n",
    "        rows = []\n",
    "        for row in reader:\n",
    "            rows.append(row)\n",
    "        return rows"
   ]
  },
  {
   "cell_type": "code",
   "execution_count": 3,
   "id": "dc531b4a-8325-41db-843a-74708fba71da",
   "metadata": {},
   "outputs": [],
   "source": [
    "src_data = load_csv(\"nayose_weekly_hard_1999_2022.csv\")"
   ]
  },
  {
   "cell_type": "code",
   "execution_count": 27,
   "id": "e48b271f-4cc4-4403-9815-6696fb111d34",
   "metadata": {},
   "outputs": [],
   "source": [
    "data2 = []\n",
    "for src in src_data[1:]:\n",
    "    begin = parser.parse(src[0]).date()\n",
    "    end = parser.parse(src[1]).date()\n",
    "    delta = end - begin\n",
    "    if datetime.timedelta(7) == delta:\n",
    "        end = end - datetime.timedelta(1)\n",
    "        delta = end - begin\n",
    "    elif datetime.timedelta(14) == delta:\n",
    "        end = end - datetime.timedelta(1)\n",
    "        delta = end - begin\n",
    "        \n",
    "    data2.append([begin, end, delta, src[2], int(src[3])])"
   ]
  },
  {
   "cell_type": "code",
   "execution_count": 31,
   "id": "47d964ab-053c-4a4d-95bb-ec2744f96e3c",
   "metadata": {},
   "outputs": [],
   "source": [
    "data7 = []\n",
    "data14 = []\n",
    "for d2 in data2:\n",
    "    if datetime.timedelta(6) < d2[2]:\n",
    "        data14.append(d2)\n",
    "    else:\n",
    "        data7.append(d2)"
   ]
  },
  {
   "cell_type": "code",
   "execution_count": 33,
   "id": "513371c2-ab89-4203-bc1a-b1ec537eb513",
   "metadata": {},
   "outputs": [],
   "source": [
    "newdata7 = []\n",
    "for d3 in data14:\n",
    "    count = int(d3[4]/2)\n",
    "    begin1 = d3[0]\n",
    "    end1 = begin1 + datetime.timedelta(6)\n",
    "    begin2 = end1 + datetime.timedelta(1)   \n",
    "    end2 = d3[1]\n",
    "    newdata7.append([begin1, end1, (end1 - begin1), d3[3], count])\n",
    "    newdata7.append([begin2, end2, (end2 - begin2), d3[3], count])\n",
    "                     "
   ]
  },
  {
   "cell_type": "code",
   "execution_count": 50,
   "id": "501d2ab3-2673-4308-90ca-a9dbdd550f9a",
   "metadata": {},
   "outputs": [],
   "source": [
    "data7.extend(newdata7)\n",
    "dataX = sorted(data7, key=lambda x:x[0])"
   ]
  },
  {
   "cell_type": "code",
   "execution_count": 57,
   "id": "c7cc8abd-74fc-49bc-a3ea-e7d7cbc3b5b4",
   "metadata": {},
   "outputs": [],
   "source": [
    "for d in dataX:\n",
    "    if (d[1] - d[0]) != datetime.timedelta(6):\n",
    "        print(d)\n",
    "        "
   ]
  },
  {
   "cell_type": "code",
   "execution_count": null,
   "id": "bbf0034d-99e8-42fa-b524-16f87b18c2c8",
   "metadata": {},
   "outputs": [],
   "source": []
  }
 ],
 "metadata": {
  "kernelspec": {
   "display_name": "Python 3 (ipykernel)",
   "language": "python",
   "name": "python3"
  },
  "language_info": {
   "codemirror_mode": {
    "name": "ipython",
    "version": 3
   },
   "file_extension": ".py",
   "mimetype": "text/x-python",
   "name": "python",
   "nbconvert_exporter": "python",
   "pygments_lexer": "ipython3",
   "version": "3.9.12"
  }
 },
 "nbformat": 4,
 "nbformat_minor": 5
}
