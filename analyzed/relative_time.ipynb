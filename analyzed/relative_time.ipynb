{
 "cells": [
  {
   "cell_type": "markdown",
   "id": "f3e16382-a708-43d8-a7bd-45dfb78285dd",
   "metadata": {},
   "source": [
    "# pandas DataFrameと相対時間\n",
    "\n",
    "pandasのDataFrameで相対時間を扱うことで以下のデータ整理を実施する｡\n",
    "\n",
    "1. 各機種の発売を起点とした累計グラフ(週販データがあるもののみ)\n",
    "2. 各機種の発売日を起点とした累計(年イチデータとの混在)\n",
    "3. Switchの月ごとの販売量の年ごとの比較"
   ]
  },
  {
   "cell_type": "markdown",
   "id": "0da87e15-892b-4a36-acce-1ae774333593",
   "metadata": {},
   "source": [
    "## pandasの相対時間の扱いのネット上の調査\n",
    "\n",
    "https://note.nkmk.me/python-datetime-timedelta-measure-time/\n"
   ]
  },
  {
   "cell_type": "code",
   "execution_count": 93,
   "id": "57231c48-b43e-488c-a991-c196fd5d3ac2",
   "metadata": {},
   "outputs": [],
   "source": [
    "# timedeltaをindexにしたDataFrameは作れるのか\n",
    "\n",
    "import pandas as pd\n",
    "import numpy as np\n",
    "import datetime\n",
    "import re\n",
    "import matplotlib.pyplot as plt\n",
    "import matplotlib as mpl\n",
    "import japanize_matplotlib\n",
    "from typing import Dict\n",
    "\n",
    "hw_all = pd.read_pickle(\"clean/hw_all.pkl\")\n",
    "hw_cumsum = pd.read_pickle(\"clean/hw_cumsum.pkl\")\n",
    "hw_year = pd.read_pickle(\"clean/hw_year.pkl\")"
   ]
  },
  {
   "cell_type": "code",
   "execution_count": 27,
   "id": "e4fb8e41-c128-4242-adc0-0f7a251b4492",
   "metadata": {},
   "outputs": [],
   "source": [
    "hw_switch = hw_cumsum['NSW'] # Switchの列だけ\n",
    "hw_ps5 = hw_cumsum['PS5'] # PS5の列だけ\n",
    "\n",
    "# dropnaでNaNがある行を落とす\n",
    "hw_switch.dropna(inplace=True)\n",
    "hw_ps5.dropna(inplace=True)\n",
    "\n",
    "# concatで結合｡axisで横に繋げば NSWとPS5それぞれのデータ列が出来る\n",
    "hw_aaa = pd.concat([hw_switch, hw_ps5], axis=1)"
   ]
  },
  {
   "cell_type": "code",
   "execution_count": 63,
   "id": "571b0b2a-148d-4e7a-8868-e111704445cd",
   "metadata": {},
   "outputs": [],
   "source": [
    "# DatetimeIndex型になっちゃうと振り直しは実質できない\n",
    "# to_dictで変換して違うDataFrameを作ったほうがいい"
   ]
  },
  {
   "cell_type": "code",
   "execution_count": 120,
   "id": "cf52722a-bb4c-4131-90dd-9eb15a2f93c3",
   "metadata": {},
   "outputs": [
    {
     "data": {
      "text/plain": [
       "<AxesSubplot:>"
      ]
     },
     "execution_count": 120,
     "metadata": {},
     "output_type": "execute_result"
    },
    {
     "data": {
      "image/png": "[encoded data removed]",
      "text/plain": [
       "<Figure size 432x288 with 1 Axes>"
      ]
     },
     "metadata": {
      "needs_background": "light"
     },
     "output_type": "display_data"
    }
   ],
   "source": [
    "# launch_days -> {\"NSW\": datetime, \"PS5\": datetime}\n",
    "#\n",
    "def sum2launchsum(hw_sum:pd.DataFrame, launch_days:Dict) -> pd.DataFrame :\n",
    "    new_dict = {}\n",
    "    dzero = datetime.timedelta(0)\n",
    "    for hw_key, epoch in launch_days.items():\n",
    "        this_dict = {}\n",
    "        for day,num in hw_sum[hw_key].to_dict().items():\n",
    "            delta = day - epoch\n",
    "            if (dzero <= delta):\n",
    "                this_dict[delta] = num\n",
    "        this_dict[dzero] = 0.0\n",
    "        new_dict[hw_key] = this_dict\n",
    "        \n",
    "    return pd.DataFrame(new_dict).sort_index()\n",
    "\n",
    "launch = {\"NSW\":datetime.datetime(2017, 3, 3),\n",
    "          \"PS5\":datetime.datetime(2020, 11, 12),\n",
    "          \"PS4\":datetime.datetime(2013, 11, 15),\n",
    "          \"WiiU\": datetime.datetime(2012,11,18),\n",
    "          \"3DS\":datetime.datetime(2011,2,26)}\n",
    "\n",
    "# hw_year_sum = hw_year.cumsum()\n",
    "# sp3 = sum2launchsum(hw_year_sum, launch)\n",
    "\n",
    "sp3 = sum2launchsum(hw_cumsum, launch)\n",
    "\n",
    "# interpolateはNaNを前後の値から補間する｡\n",
    "sp3.interpolate(method=\"linear\", limit=3).plot()"
   ]
  },
  {
   "cell_type": "code",
   "execution_count": 91,
   "id": "7fa0dafb-7e26-4aea-b417-339622d4485d",
   "metadata": {},
   "outputs": [
    {
     "data": {
      "text/html": [
       "<div>\n",
       "<style scoped>\n",
       "    .dataframe tbody tr th:only-of-type {\n",
       "        vertical-align: middle;\n",
       "    }\n",
       "\n",
       "    .dataframe tbody tr th {\n",
       "        vertical-align: top;\n",
       "    }\n",
       "\n",
       "    .dataframe thead th {\n",
       "        text-align: right;\n",
       "    }\n",
       "</style>\n",
       "<table border=\"1\" class=\"dataframe\">\n",
       "  <thead>\n",
       "    <tr style=\"text-align: right;\">\n",
       "      <th></th>\n",
       "      <th>NSW</th>\n",
       "      <th>PS5</th>\n",
       "    </tr>\n",
       "  </thead>\n",
       "  <tbody>\n",
       "    <tr>\n",
       "      <th>3 days</th>\n",
       "      <td>330637.0</td>\n",
       "      <td>NaN</td>\n",
       "    </tr>\n",
       "    <tr>\n",
       "      <th>4 days</th>\n",
       "      <td>362347.0</td>\n",
       "      <td>118085.0</td>\n",
       "    </tr>\n",
       "    <tr>\n",
       "      <th>10 days</th>\n",
       "      <td>394057.0</td>\n",
       "      <td>139530.5</td>\n",
       "    </tr>\n",
       "    <tr>\n",
       "      <th>11 days</th>\n",
       "      <td>419467.5</td>\n",
       "      <td>160976.0</td>\n",
       "    </tr>\n",
       "    <tr>\n",
       "      <th>17 days</th>\n",
       "      <td>444878.0</td>\n",
       "      <td>181205.5</td>\n",
       "    </tr>\n",
       "    <tr>\n",
       "      <th>...</th>\n",
       "      <td>...</td>\n",
       "      <td>...</td>\n",
       "    </tr>\n",
       "    <tr>\n",
       "      <th>1858 days</th>\n",
       "      <td>24344293.0</td>\n",
       "      <td>1618145.0</td>\n",
       "    </tr>\n",
       "    <tr>\n",
       "      <th>1865 days</th>\n",
       "      <td>24405455.0</td>\n",
       "      <td>1618145.0</td>\n",
       "    </tr>\n",
       "    <tr>\n",
       "      <th>1872 days</th>\n",
       "      <td>24465744.0</td>\n",
       "      <td>1618145.0</td>\n",
       "    </tr>\n",
       "    <tr>\n",
       "      <th>1879 days</th>\n",
       "      <td>24523234.0</td>\n",
       "      <td>1618145.0</td>\n",
       "    </tr>\n",
       "    <tr>\n",
       "      <th>1893 days</th>\n",
       "      <td>24699826.0</td>\n",
       "      <td>1618145.0</td>\n",
       "    </tr>\n",
       "  </tbody>\n",
       "</table>\n",
       "<p>341 rows × 2 columns</p>\n",
       "</div>"
      ],
      "text/plain": [
       "                  NSW        PS5\n",
       "3 days       330637.0        NaN\n",
       "4 days       362347.0   118085.0\n",
       "10 days      394057.0   139530.5\n",
       "11 days      419467.5   160976.0\n",
       "17 days      444878.0   181205.5\n",
       "...               ...        ...\n",
       "1858 days  24344293.0  1618145.0\n",
       "1865 days  24405455.0  1618145.0\n",
       "1872 days  24465744.0  1618145.0\n",
       "1879 days  24523234.0  1618145.0\n",
       "1893 days  24699826.0  1618145.0\n",
       "\n",
       "[341 rows x 2 columns]"
      ]
     },
     "execution_count": 91,
     "metadata": {},
     "output_type": "execute_result"
    },
    {
     "data": {
      "image/png": "[encoded data removed]",
      "text/plain": [
       "<Figure size 432x288 with 1 Axes>"
      ]
     },
     "metadata": {
      "needs_background": "light"
     },
     "output_type": "display_data"
    }
   ],
   "source": [
    "switch_dict = {}\n",
    "epoch = datetime.datetime(2017, 3, 3, 0, 0, 0)\n",
    "for k, v in hw_switch.to_dict().items():\n",
    "    delta = k - epoch\n",
    "    switch_dict[delta] = v\n",
    "    \n",
    "ps5_dict = {}\n",
    "epoch = datetime.datetime(2020, 11, 12, 0, 0, 0)\n",
    "for k, v in hw_ps5.to_dict().items():\n",
    "    delta = k - epoch\n",
    "    ps5_dict[delta] = v\n",
    "    \n",
    "ps5_dict\n",
    "\n",
    "# 入力データを作り出す\n",
    "s2 = pd.DataFrame({\"NSW\": switch_dict})\n",
    "p2 = pd.DataFrame({\"PS5\": ps5_dict})\n",
    "\n",
    "sp2 = pd.concat([s2, p2], axis=1).sort_index() # indexのソートは必要\n",
    "\n",
    "# interpolateはNaNを前後の値から補間する｡\n",
    "sp2.interpolate(method='linear').plot()\n",
    "sp2.interpolate(method='linear')"
   ]
  },
  {
   "cell_type": "code",
   "execution_count": 86,
   "id": "9ffaef01-aca7-4d84-8b5b-b56f78e61d3c",
   "metadata": {},
   "outputs": [
    {
     "data": {
      "text/plain": [
       "<AxesSubplot:>"
      ]
     },
     "execution_count": 86,
     "metadata": {},
     "output_type": "execute_result"
    },
    {
     "data": {
      "image/png": "[encoded data removed]",
      "text/plain": [
       "<Figure size 432x288 with 1 Axes>"
      ]
     },
     "metadata": {
      "needs_background": "light"
     },
     "output_type": "display_data"
    }
   ],
   "source": [
    "sp3.plot(marker='.')"
   ]
  },
  {
   "cell_type": "code",
   "execution_count": 50,
   "id": "8ae1c1f7-db5a-4218-8d8c-d23daf14dc56",
   "metadata": {},
   "outputs": [],
   "source": [
    "# Indexオブジェクトはenumerateなのでloopで回せる\n",
    "sw_index = hw_switch.index\n",
    "delta_map = {}\n",
    "epoch = datetime.datetime(2017, 3, 3, 0, 0, 0)\n",
    "for i in sw_index:\n",
    "    ii = pd.Timestamp(i).value\n",
    "    delta_map[ii] = i - epoch"
   ]
  },
  {
   "cell_type": "code",
   "execution_count": 54,
   "id": "e7d17bbb-13c6-485e-a00e-8866027c5bd2",
   "metadata": {},
   "outputs": [
    {
     "ename": "TypeError",
     "evalue": "reindex() got an unexpected keyword argument 'index'",
     "output_type": "error",
     "traceback": [
      "\u001b[0;31m---------------------------------------------------------------------------\u001b[0m",
      "\u001b[0;31mTypeError\u001b[0m                                 Traceback (most recent call last)",
      "Input \u001b[0;32mIn [54]\u001b[0m, in \u001b[0;36m<cell line: 2>\u001b[0;34m()\u001b[0m\n\u001b[1;32m      1\u001b[0m hw_s2 \u001b[38;5;241m=\u001b[39m hw_switch\u001b[38;5;241m.\u001b[39mindex\u001b[38;5;241m.\u001b[39mastype(\u001b[38;5;28mint\u001b[39m)\n\u001b[0;32m----> 2\u001b[0m \u001b[43mhw_s2\u001b[49m\u001b[38;5;241;43m.\u001b[39;49m\u001b[43mreindex\u001b[49m\u001b[43m(\u001b[49m\u001b[43mindex\u001b[49m\u001b[38;5;241;43m=\u001b[39;49m\u001b[43mdelta_map\u001b[49m\u001b[43m)\u001b[49m\n",
      "\u001b[0;31mTypeError\u001b[0m: reindex() got an unexpected keyword argument 'index'"
     ]
    }
   ],
   "source": [
    "hw_s2 = hw_switch.index.astype(int)\n",
    "hw_s2.reindex(index=delta_map)"
   ]
  },
  {
   "cell_type": "code",
   "execution_count": 56,
   "id": "6f60e9d4-1e45-4c88-a917-62a5399b20dc",
   "metadata": {},
   "outputs": [
    {
     "ename": "AttributeError",
     "evalue": "'Int64Index' object has no attribute 'index'",
     "output_type": "error",
     "traceback": [
      "\u001b[0;31m---------------------------------------------------------------------------\u001b[0m",
      "\u001b[0;31mAttributeError\u001b[0m                            Traceback (most recent call last)",
      "Input \u001b[0;32mIn [56]\u001b[0m, in \u001b[0;36m<cell line: 1>\u001b[0;34m()\u001b[0m\n\u001b[0;32m----> 1\u001b[0m \u001b[43mhw_s2\u001b[49m\u001b[38;5;241;43m.\u001b[39;49m\u001b[43mindex\u001b[49m\n",
      "\u001b[0;31mAttributeError\u001b[0m: 'Int64Index' object has no attribute 'index'"
     ]
    }
   ],
   "source": [
    "hw_s2.index"
   ]
  },
  {
   "cell_type": "code",
   "execution_count": null,
   "id": "bd600758-b26a-46a0-994d-0e17b4f7ddb4",
   "metadata": {},
   "outputs": [],
   "source": [
    "# renameかreindexを使うのか..."
   ]
  }
 ],
 "metadata": {
  "kernelspec": {
   "display_name": "Python 3 (ipykernel)",
   "language": "python",
   "name": "python3"
  },
  "language_info": {
   "codemirror_mode": {
    "name": "ipython",
    "version": 3
   },
   "file_extension": ".py",
   "mimetype": "text/x-python",
   "name": "python",
   "nbconvert_exporter": "python",
   "pygments_lexer": "ipython3",
   "version": "3.9.12"
  }
 },
 "nbformat": 4,
 "nbformat_minor": 5
}
